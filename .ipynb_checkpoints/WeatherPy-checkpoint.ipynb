{
 "cells": [
  {
   "cell_type": "markdown",
   "metadata": {},
   "source": [
    "# WeatherPy\n",
    "----\n",
    "\n",
    "#### Observations & Analysis\n",
    "- There is no relationship between latitude and humidity level. \n",
    "- Highest maximum temperatures occurred between -20 and 20 latitude. Temperature decreases as you move further away from 0 latitude. This is also represented by the linear regression plots for both southern and northern hemisphere. \n",
    "- There is no relationship between latitude and cloudiness or latitude and wind speed\n"
   ]
  },
  {
   "cell_type": "code",
   "execution_count": 1,
   "metadata": {
    "scrolled": true
   },
   "outputs": [],
   "source": [
    "# Dependencies and Setup\n",
    "import matplotlib.pyplot as plt\n",
    "import pandas as pd\n",
    "import numpy as np\n",
    "import requests\n",
    "import time\n",
    "from scipy.stats import linregress\n",
    "\n",
    "# Import API key\n",
    "#from api_keys import weather_api_key\n",
    "weather_api_key = \"17ba8b3c6942b1a6938acf08cf8eb325\"\n",
    "\n",
    "# Incorporated citipy to determine city based on latitude and longitude\n",
    "from citipy import citipy\n",
    "\n",
    "# Output File (CSV)\n",
    "output_data_file = \"cities.csv\"\n",
    "\n",
    "# Range of latitudes and longitudes\n",
    "lat_range = (-90, 90)\n",
    "lng_range = (-180, 180)"
   ]
  },
  {
   "cell_type": "markdown",
   "metadata": {},
   "source": [
    "## Generate Cities List"
   ]
  },
  {
   "cell_type": "code",
   "execution_count": 2,
   "metadata": {},
   "outputs": [
    {
     "data": {
      "text/plain": [
       "581"
      ]
     },
     "execution_count": 2,
     "metadata": {},
     "output_type": "execute_result"
    }
   ],
   "source": [
    "# List for holding lat_lngs and cities\n",
    "lat_lngs = []\n",
    "cities = []\n",
    "\n",
    "# Create a set of random lat and lng combinations\n",
    "lats = np.random.uniform(lat_range[0], lat_range[1], size=1500)\n",
    "lngs = np.random.uniform(lng_range[0], lng_range[1], size=1500)\n",
    "lat_lngs = zip(lats, lngs)\n",
    "\n",
    "# Identify nearest city for each lat, lng combination\n",
    "for lat_lng in lat_lngs:\n",
    "    city = citipy.nearest_city(lat_lng[0], lat_lng[1]).city_name\n",
    "    \n",
    "    # If the city is unique, then add it to a our cities list\n",
    "    if city not in cities:\n",
    "        cities.append(city)\n",
    "\n",
    "# Print the city count to confirm sufficient count\n",
    "len(cities)"
   ]
  },
  {
   "cell_type": "markdown",
   "metadata": {},
   "source": [
    "### Perform API Calls\n",
    "* Perform a weather check on each city using a series of successive API calls.\n",
    "* Include a print log of each city as it'sbeing processed (with the city number and city name).\n"
   ]
  },
  {
   "cell_type": "code",
   "execution_count": 3,
   "metadata": {},
   "outputs": [
    {
     "name": "stdout",
     "output_type": "stream",
     "text": [
      "http://api.openweathermap.org/data/2.5/weather?appid=17ba8b3c6942b1a6938acf08cf8eb325&units=imperial&q=\n"
     ]
    }
   ],
   "source": [
    "api_key = weather_api_key\n",
    "units = 'imperial'\n",
    "\n",
    "query_url = f\"http://api.openweathermap.org/data/2.5/weather?appid={api_key}&units={units}&q=\"\n",
    "\n",
    "count_one = 0\n",
    "set_one = 0\n",
    "\n",
    "print(query_url)"
   ]
  },
  {
   "cell_type": "code",
   "execution_count": 4,
   "metadata": {},
   "outputs": [
    {
     "name": "stdout",
     "output_type": "stream",
     "text": [
      "Processing Record 1 of Set 1 | punta arenas\n",
      "Processing Record 2 of Set 1 | pevek\n",
      "Processing Record 3 of Set 1 | rengo\n",
      "City not found. Skipping...\n",
      "Processing Record 4 of Set 1 | myitkyina\n",
      "Processing Record 5 of Set 1 | yellowknife\n",
      "Processing Record 6 of Set 1 | kargasok\n",
      "Processing Record 7 of Set 1 | hilo\n",
      "Processing Record 8 of Set 1 | bolobo\n",
      "Processing Record 9 of Set 1 | santa isabel\n",
      "Processing Record 10 of Set 1 | hermanus\n",
      "City not found. Skipping...\n",
      "Processing Record 11 of Set 1 | balikpapan\n",
      "Processing Record 12 of Set 1 | bethel\n",
      "Processing Record 13 of Set 1 | adrar\n",
      "Processing Record 14 of Set 1 | kaitangata\n",
      "Processing Record 15 of Set 1 | dikson\n",
      "Processing Record 16 of Set 1 | east london\n",
      "Processing Record 17 of Set 1 | linxia\n",
      "Processing Record 18 of Set 1 | belmonte\n",
      "Processing Record 19 of Set 1 | albany\n",
      "Processing Record 20 of Set 1 | camopi\n",
      "Processing Record 21 of Set 1 | ribeira grande\n",
      "Processing Record 22 of Set 1 | rikitea\n",
      "Processing Record 23 of Set 1 | aregua\n",
      "Processing Record 24 of Set 1 | cam ranh\n",
      "City not found. Skipping...\n",
      "Processing Record 25 of Set 1 | provideniya\n",
      "Processing Record 26 of Set 1 | arraial do cabo\n",
      "Processing Record 27 of Set 1 | ust-nera\n",
      "Processing Record 28 of Set 1 | mataura\n",
      "Processing Record 29 of Set 1 | narsaq\n",
      "Processing Record 30 of Set 1 | tabou\n",
      "Processing Record 31 of Set 1 | klaksvik\n",
      "Processing Record 32 of Set 1 | nikolskoye\n",
      "Processing Record 33 of Set 1 | bathsheba\n",
      "Processing Record 34 of Set 1 | devrek\n",
      "Processing Record 35 of Set 1 | oistins\n",
      "Processing Record 36 of Set 1 | jamestown\n",
      "City not found. Skipping...\n",
      "Processing Record 37 of Set 1 | new norfolk\n",
      "Processing Record 38 of Set 1 | bornheim\n",
      "Processing Record 39 of Set 1 | cherskiy\n",
      "Processing Record 40 of Set 1 | roebourne\n",
      "City not found. Skipping...\n",
      "Processing Record 41 of Set 1 | kapaa\n",
      "Processing Record 42 of Set 1 | kavaratti\n",
      "City not found. Skipping...\n",
      "Processing Record 43 of Set 1 | chokurdakh\n",
      "Processing Record 44 of Set 1 | avarua\n",
      "Processing Record 45 of Set 1 | vanavara\n",
      "Processing Record 46 of Set 1 | mar del plata\n",
      "Processing Record 47 of Set 1 | manali\n",
      "Processing Record 48 of Set 1 | saskylakh\n",
      "Processing Record 49 of Set 1 | tuatapere\n",
      "Processing Record 1 of Set 2 | liberty\n",
      "Processing Record 2 of Set 2 | cape town\n",
      "Processing Record 3 of Set 2 | qasigiannguit\n",
      "Processing Record 4 of Set 2 | dzhebariki-khaya\n",
      "Processing Record 5 of Set 2 | butaritari\n",
      "Processing Record 6 of Set 2 | geraldton\n",
      "Processing Record 7 of Set 2 | portland\n",
      "City not found. Skipping...\n",
      "Processing Record 8 of Set 2 | chapais\n",
      "Processing Record 9 of Set 2 | lebu\n",
      "Processing Record 10 of Set 2 | tasiilaq\n",
      "Processing Record 11 of Set 2 | fairbanks\n",
      "Processing Record 12 of Set 2 | atuona\n",
      "Processing Record 13 of Set 2 | vaini\n",
      "Processing Record 14 of Set 2 | qaanaaq\n",
      "Processing Record 15 of Set 2 | faanui\n",
      "Processing Record 16 of Set 2 | lagoa\n",
      "Processing Record 17 of Set 2 | lichinga\n",
      "Processing Record 18 of Set 2 | ushuaia\n",
      "Processing Record 19 of Set 2 | poronaysk\n",
      "Processing Record 20 of Set 2 | soskovo\n",
      "City not found. Skipping...\n",
      "Processing Record 21 of Set 2 | guerrero negro\n",
      "Processing Record 22 of Set 2 | clyde\n",
      "City not found. Skipping...\n",
      "Processing Record 23 of Set 2 | busselton\n",
      "Processing Record 24 of Set 2 | gizo\n",
      "Processing Record 25 of Set 2 | yatou\n",
      "Processing Record 26 of Set 2 | port alfred\n",
      "Processing Record 27 of Set 2 | longyearbyen\n",
      "Processing Record 28 of Set 2 | sinnamary\n",
      "Processing Record 29 of Set 2 | torbay\n",
      "Processing Record 30 of Set 2 | upernavik\n",
      "Processing Record 31 of Set 2 | hasaki\n",
      "Processing Record 32 of Set 2 | bluff\n",
      "City not found. Skipping...\n",
      "Processing Record 33 of Set 2 | kimberley\n",
      "Processing Record 34 of Set 2 | cidreira\n",
      "Processing Record 35 of Set 2 | faya\n",
      "Processing Record 36 of Set 2 | edgewater\n",
      "Processing Record 37 of Set 2 | springbok\n",
      "Processing Record 38 of Set 2 | hithadhoo\n",
      "Processing Record 39 of Set 2 | castro-urdiales\n",
      "Processing Record 40 of Set 2 | tshikapa\n",
      "Processing Record 41 of Set 2 | kalmunai\n",
      "Processing Record 42 of Set 2 | athabasca\n",
      "Processing Record 43 of Set 2 | georgetown\n",
      "Processing Record 44 of Set 2 | burnie\n",
      "Processing Record 45 of Set 2 | chicama\n",
      "Processing Record 46 of Set 2 | pyapon\n",
      "Processing Record 47 of Set 2 | itaueira\n",
      "Processing Record 48 of Set 2 | grand-lahou\n",
      "Processing Record 49 of Set 2 | giaveno\n",
      "Processing Record 1 of Set 3 | lompoc\n",
      "Processing Record 2 of Set 3 | kuybyshevo\n",
      "Processing Record 3 of Set 3 | port elizabeth\n",
      "Processing Record 4 of Set 3 | emerald\n",
      "Processing Record 5 of Set 3 | pangnirtung\n",
      "Processing Record 6 of Set 3 | barrow\n",
      "Processing Record 7 of Set 3 | saint-philippe\n",
      "Processing Record 8 of Set 3 | egvekinot\n",
      "Processing Record 9 of Set 3 | hobart\n",
      "Processing Record 10 of Set 3 | tenenkou\n",
      "City not found. Skipping...\n",
      "Processing Record 11 of Set 3 | puerto ayora\n",
      "City not found. Skipping...\n",
      "City not found. Skipping...\n",
      "Processing Record 12 of Set 3 | waterloo\n",
      "Processing Record 13 of Set 3 | tuktoyaktuk\n",
      "Processing Record 14 of Set 3 | cabo san lucas\n",
      "Processing Record 15 of Set 3 | xihua\n",
      "Processing Record 16 of Set 3 | mahebourg\n",
      "Processing Record 17 of Set 3 | thompson\n",
      "Processing Record 18 of Set 3 | verkhnevilyuysk\n",
      "Processing Record 19 of Set 3 | sao filipe\n",
      "Processing Record 20 of Set 3 | vanimo\n",
      "Processing Record 21 of Set 3 | muros\n",
      "Processing Record 22 of Set 3 | banting\n",
      "Processing Record 23 of Set 3 | bredasdorp\n",
      "Processing Record 24 of Set 3 | opuwo\n",
      "Processing Record 25 of Set 3 | pitimbu\n",
      "City not found. Skipping...\n",
      "Processing Record 26 of Set 3 | nemuro\n",
      "Processing Record 27 of Set 3 | dingtao\n",
      "Processing Record 28 of Set 3 | yashkul\n",
      "Processing Record 29 of Set 3 | arkhara\n",
      "Processing Record 30 of Set 3 | tzaneen\n",
      "Processing Record 31 of Set 3 | sampit\n",
      "Processing Record 32 of Set 3 | flinders\n",
      "City not found. Skipping...\n",
      "Processing Record 33 of Set 3 | olafsvik\n",
      "Processing Record 34 of Set 3 | usinsk\n",
      "Processing Record 35 of Set 3 | altamira\n",
      "Processing Record 36 of Set 3 | pervomayskoye\n",
      "Processing Record 37 of Set 3 | mantua\n",
      "Processing Record 38 of Set 3 | barguzin\n",
      "City not found. Skipping...\n",
      "Processing Record 39 of Set 3 | botwood\n",
      "Processing Record 40 of Set 3 | shubarkuduk\n",
      "Processing Record 41 of Set 3 | rawson\n",
      "Processing Record 42 of Set 3 | castro\n",
      "Processing Record 43 of Set 3 | aklavik\n",
      "Processing Record 44 of Set 3 | macapa\n",
      "Processing Record 45 of Set 3 | khartoum\n",
      "Processing Record 46 of Set 3 | salalah\n",
      "Processing Record 47 of Set 3 | saurimo\n",
      "Processing Record 48 of Set 3 | ceres\n",
      "Processing Record 49 of Set 3 | jawhar\n",
      "City not found. Skipping...\n",
      "Processing Record 1 of Set 4 | bambous virieux\n",
      "Processing Record 2 of Set 4 | mananara\n",
      "Processing Record 3 of Set 4 | sitka\n",
      "City not found. Skipping...\n",
      "Processing Record 4 of Set 4 | buala\n",
      "Processing Record 5 of Set 4 | severo-kurilsk\n",
      "Processing Record 6 of Set 4 | nelson bay\n",
      "Processing Record 7 of Set 4 | nimaparha\n",
      "Processing Record 8 of Set 4 | fortuna\n",
      "Processing Record 9 of Set 4 | marawi\n",
      "Processing Record 10 of Set 4 | khatanga\n",
      "City not found. Skipping...\n",
      "Processing Record 11 of Set 4 | kristiansund\n",
      "Processing Record 12 of Set 4 | souillac\n",
      "Processing Record 13 of Set 4 | moroto\n",
      "Processing Record 14 of Set 4 | gimli\n",
      "Processing Record 15 of Set 4 | ponta do sol\n",
      "Processing Record 16 of Set 4 | zhigansk\n",
      "Processing Record 17 of Set 4 | alice springs\n",
      "Processing Record 18 of Set 4 | harindanga\n",
      "Processing Record 19 of Set 4 | gazli\n",
      "Processing Record 20 of Set 4 | soe\n",
      "Processing Record 21 of Set 4 | tezu\n",
      "Processing Record 22 of Set 4 | karera\n",
      "City not found. Skipping...\n",
      "Processing Record 23 of Set 4 | bilibino\n",
      "Processing Record 24 of Set 4 | esperance\n",
      "Processing Record 25 of Set 4 | klyuchevskiy\n",
      "Processing Record 26 of Set 4 | mys shmidta\n",
      "Processing Record 27 of Set 4 | evensk\n",
      "Processing Record 28 of Set 4 | lata\n",
      "Processing Record 29 of Set 4 | santa flavia\n",
      "Processing Record 30 of Set 4 | cockburn town\n",
      "Processing Record 31 of Set 4 | gull lake\n",
      "Processing Record 32 of Set 4 | victoria\n",
      "Processing Record 33 of Set 4 | haines junction\n",
      "Processing Record 34 of Set 4 | nanakuli\n",
      "Processing Record 35 of Set 4 | puerto madryn\n",
      "Processing Record 36 of Set 4 | luderitz\n",
      "Processing Record 37 of Set 4 | ashington\n",
      "Processing Record 38 of Set 4 | brae\n",
      "Processing Record 39 of Set 4 | rio gallegos\n"
     ]
    },
    {
     "name": "stdout",
     "output_type": "stream",
     "text": [
      "Processing Record 40 of Set 4 | sao sebastiao\n",
      "Processing Record 41 of Set 4 | kautokeino\n",
      "Processing Record 42 of Set 4 | linqing\n",
      "Processing Record 43 of Set 4 | college\n",
      "Processing Record 44 of Set 4 | kiunga\n",
      "Processing Record 45 of Set 4 | grand river south east\n",
      "Processing Record 46 of Set 4 | santa lucia\n",
      "Processing Record 47 of Set 4 | kommunisticheskiy\n",
      "Processing Record 48 of Set 4 | taksimo\n",
      "Processing Record 49 of Set 4 | andenes\n",
      "Processing Record 1 of Set 5 | saldanha\n",
      "Processing Record 2 of Set 5 | high prairie\n",
      "Processing Record 3 of Set 5 | tricase\n",
      "Processing Record 4 of Set 5 | kruisfontein\n",
      "Processing Record 5 of Set 5 | kropotkin\n",
      "Processing Record 6 of Set 5 | kangaatsiaq\n",
      "Processing Record 7 of Set 5 | nantucket\n",
      "City not found. Skipping...\n",
      "City not found. Skipping...\n",
      "Processing Record 8 of Set 5 | slatina\n",
      "Processing Record 9 of Set 5 | trebinje\n",
      "Processing Record 10 of Set 5 | iquique\n",
      "Processing Record 11 of Set 5 | barabinsk\n",
      "Processing Record 12 of Set 5 | carnarvon\n",
      "Processing Record 13 of Set 5 | dunn\n",
      "Processing Record 14 of Set 5 | necochea\n",
      "Processing Record 15 of Set 5 | lincoln\n",
      "Processing Record 16 of Set 5 | kisesa\n",
      "Processing Record 17 of Set 5 | mitsamiouli\n",
      "Processing Record 18 of Set 5 | sola\n",
      "Processing Record 19 of Set 5 | kadoma\n",
      "City not found. Skipping...\n",
      "Processing Record 20 of Set 5 | kumluca\n",
      "Processing Record 21 of Set 5 | nouadhibou\n",
      "Processing Record 22 of Set 5 | pandamatenga\n",
      "Processing Record 23 of Set 5 | mehamn\n",
      "Processing Record 24 of Set 5 | vuktyl\n",
      "Processing Record 25 of Set 5 | puerto leguizamo\n",
      "Processing Record 26 of Set 5 | ilulissat\n",
      "Processing Record 27 of Set 5 | korla\n",
      "Processing Record 28 of Set 5 | pirapora\n",
      "Processing Record 29 of Set 5 | vila velha\n",
      "Processing Record 30 of Set 5 | saint-leu\n",
      "Processing Record 31 of Set 5 | udankudi\n",
      "Processing Record 32 of Set 5 | lavrentiya\n",
      "Processing Record 33 of Set 5 | beringovskiy\n",
      "Processing Record 34 of Set 5 | kahului\n",
      "Processing Record 35 of Set 5 | broome\n",
      "Processing Record 36 of Set 5 | lang suan\n",
      "Processing Record 37 of Set 5 | half moon bay\n",
      "Processing Record 38 of Set 5 | aquidauana\n",
      "Processing Record 39 of Set 5 | jaguaruna\n",
      "Processing Record 40 of Set 5 | kodiak\n",
      "Processing Record 41 of Set 5 | havre-saint-pierre\n",
      "Processing Record 42 of Set 5 | bairiki\n",
      "Processing Record 43 of Set 5 | ambanja\n",
      "Processing Record 44 of Set 5 | hokitika\n",
      "Processing Record 45 of Set 5 | valparaiso\n",
      "Processing Record 46 of Set 5 | tiksi\n",
      "Processing Record 47 of Set 5 | nago\n",
      "Processing Record 48 of Set 5 | alofi\n",
      "Processing Record 49 of Set 5 | fuyu\n",
      "Processing Record 1 of Set 6 | catamarca\n",
      "Processing Record 2 of Set 6 | dingle\n",
      "Processing Record 3 of Set 6 | constitucion\n",
      "Processing Record 4 of Set 6 | kieta\n",
      "Processing Record 5 of Set 6 | marsh harbour\n",
      "Processing Record 6 of Set 6 | yaransk\n",
      "Processing Record 7 of Set 6 | chushan\n",
      "Processing Record 8 of Set 6 | sibolga\n",
      "Processing Record 9 of Set 6 | pskov\n",
      "Processing Record 10 of Set 6 | sim\n",
      "Processing Record 11 of Set 6 | ortakoy\n",
      "Processing Record 12 of Set 6 | husavik\n",
      "Processing Record 13 of Set 6 | esil\n",
      "Processing Record 14 of Set 6 | seminole\n",
      "Processing Record 15 of Set 6 | abu zabad\n",
      "Processing Record 16 of Set 6 | codrington\n",
      "City not found. Skipping...\n",
      "Processing Record 17 of Set 6 | phuntsholing\n",
      "City not found. Skipping...\n",
      "Processing Record 18 of Set 6 | naze\n",
      "Processing Record 19 of Set 6 | hofn\n",
      "Processing Record 20 of Set 6 | barstow\n",
      "Processing Record 21 of Set 6 | weiden\n",
      "Processing Record 22 of Set 6 | poya\n",
      "Processing Record 23 of Set 6 | dudinka\n",
      "City not found. Skipping...\n",
      "City not found. Skipping...\n",
      "Processing Record 24 of Set 6 | spirit river\n",
      "Processing Record 25 of Set 6 | booue\n",
      "Processing Record 26 of Set 6 | meulaboh\n",
      "Processing Record 27 of Set 6 | kokopo\n",
      "Processing Record 28 of Set 6 | cruzeiro do sul\n",
      "Processing Record 29 of Set 6 | ahipara\n",
      "Processing Record 30 of Set 6 | makhachkala\n",
      "Processing Record 31 of Set 6 | benguela\n",
      "Processing Record 32 of Set 6 | salinopolis\n",
      "Processing Record 33 of Set 6 | vila franca do campo\n",
      "Processing Record 34 of Set 6 | hegang\n",
      "Processing Record 35 of Set 6 | komsomolets\n",
      "Processing Record 36 of Set 6 | amapa\n",
      "Processing Record 37 of Set 6 | shenjiamen\n",
      "Processing Record 38 of Set 6 | sao joao da barra\n",
      "Processing Record 39 of Set 6 | melfi\n",
      "Processing Record 40 of Set 6 | chuy\n",
      "Processing Record 41 of Set 6 | namatanai\n",
      "Processing Record 42 of Set 6 | ucluelet\n",
      "Processing Record 43 of Set 6 | leh\n",
      "Processing Record 44 of Set 6 | ewo\n",
      "Processing Record 45 of Set 6 | palana\n",
      "Processing Record 46 of Set 6 | moindou\n",
      "Processing Record 47 of Set 6 | mersing\n",
      "Processing Record 48 of Set 6 | albion\n",
      "Processing Record 49 of Set 6 | luganville\n",
      "City not found. Skipping...\n",
      "Processing Record 1 of Set 7 | bosaso\n",
      "Processing Record 2 of Set 7 | fare\n",
      "Processing Record 3 of Set 7 | vardo\n",
      "Processing Record 4 of Set 7 | yarada\n",
      "Processing Record 5 of Set 7 | katsuura\n",
      "Processing Record 6 of Set 7 | itarema\n",
      "Processing Record 7 of Set 7 | ugoofaaru\n",
      "Processing Record 8 of Set 7 | oranjestad\n",
      "Processing Record 9 of Set 7 | norman wells\n",
      "Processing Record 10 of Set 7 | nuqui\n",
      "Processing Record 11 of Set 7 | iqaluit\n",
      "City not found. Skipping...\n",
      "Processing Record 12 of Set 7 | karpathos\n",
      "Processing Record 13 of Set 7 | port moresby\n",
      "Processing Record 14 of Set 7 | bubaque\n",
      "Processing Record 15 of Set 7 | taoudenni\n",
      "Processing Record 16 of Set 7 | shimoda\n",
      "Processing Record 17 of Set 7 | barabai\n",
      "Processing Record 18 of Set 7 | bonavista\n",
      "Processing Record 19 of Set 7 | mayumba\n",
      "Processing Record 20 of Set 7 | balaguer\n",
      "Processing Record 21 of Set 7 | morgan city\n",
      "Processing Record 22 of Set 7 | hambantota\n",
      "Processing Record 23 of Set 7 | mahenge\n",
      "Processing Record 24 of Set 7 | ostrovnoy\n",
      "Processing Record 25 of Set 7 | san cristobal\n",
      "Processing Record 26 of Set 7 | port macquarie\n",
      "Processing Record 27 of Set 7 | sechura\n",
      "City not found. Skipping...\n",
      "Processing Record 28 of Set 7 | karratha\n",
      "Processing Record 29 of Set 7 | cozumel\n",
      "Processing Record 30 of Set 7 | pauini\n",
      "Processing Record 31 of Set 7 | sao domingos\n",
      "Processing Record 32 of Set 7 | nome\n",
      "Processing Record 33 of Set 7 | inhambane\n",
      "Processing Record 34 of Set 7 | auki\n",
      "Processing Record 35 of Set 7 | sorland\n",
      "Processing Record 36 of Set 7 | hamilton\n",
      "Processing Record 37 of Set 7 | kirakira\n",
      "Processing Record 38 of Set 7 | porto walter\n",
      "City not found. Skipping...\n",
      "Processing Record 39 of Set 7 | tobolsk\n",
      "Processing Record 40 of Set 7 | alyangula\n",
      "Processing Record 41 of Set 7 | sulangan\n",
      "Processing Record 42 of Set 7 | rzhyshchiv\n",
      "Processing Record 43 of Set 7 | kazachinskoye\n",
      "Processing Record 44 of Set 7 | kenai\n",
      "Processing Record 45 of Set 7 | minbu\n",
      "Processing Record 46 of Set 7 | tahoua\n",
      "Processing Record 47 of Set 7 | baoro\n",
      "Processing Record 48 of Set 7 | seymchan\n",
      "Processing Record 49 of Set 7 | carutapera\n",
      "City not found. Skipping...\n",
      "Processing Record 1 of Set 8 | airai\n",
      "Processing Record 2 of Set 8 | alta floresta\n",
      "Processing Record 3 of Set 8 | aparecida do taboado\n",
      "Processing Record 4 of Set 8 | andros town\n",
      "City not found. Skipping...\n",
      "Processing Record 5 of Set 8 | port hardy\n",
      "Processing Record 6 of Set 8 | elizabeth city\n",
      "City not found. Skipping...\n",
      "Processing Record 7 of Set 8 | dakar\n",
      "Processing Record 8 of Set 8 | nanortalik\n",
      "Processing Record 9 of Set 8 | igarka\n",
      "Processing Record 10 of Set 8 | port lincoln\n",
      "Processing Record 11 of Set 8 | abu dhabi\n",
      "Processing Record 12 of Set 8 | orange cove\n",
      "Processing Record 13 of Set 8 | houma\n",
      "Processing Record 14 of Set 8 | oksfjord\n",
      "Processing Record 15 of Set 8 | strenci\n",
      "Processing Record 16 of Set 8 | merauke\n",
      "Processing Record 17 of Set 8 | katobu\n",
      "Processing Record 18 of Set 8 | bull savanna\n",
      "City not found. Skipping...\n",
      "Processing Record 19 of Set 8 | lira\n",
      "Processing Record 20 of Set 8 | vostok\n",
      "Processing Record 21 of Set 8 | margate\n",
      "Processing Record 22 of Set 8 | sayyan\n",
      "Processing Record 23 of Set 8 | tyshkivka\n",
      "Processing Record 24 of Set 8 | teguise\n",
      "Processing Record 25 of Set 8 | sobolevo\n",
      "Processing Record 26 of Set 8 | rumonge\n",
      "Processing Record 27 of Set 8 | belyy yar\n",
      "Processing Record 28 of Set 8 | kinshasa\n",
      "Processing Record 29 of Set 8 | white center\n",
      "Processing Record 30 of Set 8 | port hedland\n",
      "Processing Record 31 of Set 8 | vite\n",
      "City not found. Skipping...\n",
      "Processing Record 32 of Set 8 | dedougou\n"
     ]
    },
    {
     "name": "stdout",
     "output_type": "stream",
     "text": [
      "Processing Record 33 of Set 8 | victor harbor\n",
      "Processing Record 34 of Set 8 | ust-shonosha\n",
      "Processing Record 35 of Set 8 | rovaniemi\n",
      "Processing Record 36 of Set 8 | shimanovsk\n",
      "Processing Record 37 of Set 8 | shar\n",
      "City not found. Skipping...\n",
      "Processing Record 38 of Set 8 | praia da vitoria\n",
      "Processing Record 39 of Set 8 | kalkar\n",
      "Processing Record 40 of Set 8 | moranbah\n",
      "Processing Record 41 of Set 8 | koulamoutou\n",
      "Processing Record 42 of Set 8 | pacasmayo\n",
      "Processing Record 43 of Set 8 | reconquista\n",
      "Processing Record 44 of Set 8 | guymon\n",
      "Processing Record 45 of Set 8 | namibe\n",
      "Processing Record 46 of Set 8 | ust-kuyga\n",
      "Processing Record 47 of Set 8 | anshun\n",
      "Processing Record 48 of Set 8 | ponazyrevo\n",
      "Processing Record 49 of Set 8 | vao\n",
      "Processing Record 1 of Set 9 | ous\n",
      "Processing Record 2 of Set 9 | mayo\n",
      "Processing Record 3 of Set 9 | ancud\n",
      "Processing Record 4 of Set 9 | anori\n",
      "Processing Record 5 of Set 9 | lasa\n",
      "Processing Record 6 of Set 9 | yar-sale\n",
      "Processing Record 7 of Set 9 | tual\n",
      "Processing Record 8 of Set 9 | hope mills\n",
      "Processing Record 9 of Set 9 | mount gambier\n",
      "City not found. Skipping...\n",
      "Processing Record 10 of Set 9 | pedernales\n",
      "Processing Record 11 of Set 9 | florence\n",
      "City not found. Skipping...\n",
      "Processing Record 12 of Set 9 | kanye\n",
      "Processing Record 13 of Set 9 | kimbe\n",
      "Processing Record 14 of Set 9 | alvarado\n",
      "Processing Record 15 of Set 9 | walajapet\n",
      "Processing Record 16 of Set 9 | trincomalee\n",
      "Processing Record 17 of Set 9 | jiaonan\n",
      "Processing Record 18 of Set 9 | pisco\n",
      "Processing Record 19 of Set 9 | novikovo\n",
      "Processing Record 20 of Set 9 | bay roberts\n",
      "Processing Record 21 of Set 9 | daru\n",
      "Processing Record 22 of Set 9 | talnakh\n",
      "Processing Record 23 of Set 9 | betioky\n",
      "Processing Record 24 of Set 9 | weston\n",
      "Processing Record 25 of Set 9 | uray\n",
      "Processing Record 26 of Set 9 | tandil\n",
      "Processing Record 27 of Set 9 | coos bay\n",
      "Processing Record 28 of Set 9 | camacha\n",
      "Processing Record 29 of Set 9 | lorengau\n",
      "Processing Record 30 of Set 9 | chadiza\n",
      "Processing Record 31 of Set 9 | vestmanna\n",
      "Processing Record 32 of Set 9 | yakeshi\n",
      "Processing Record 33 of Set 9 | mayya\n",
      "Processing Record 34 of Set 9 | diamantino\n",
      "Processing Record 35 of Set 9 | lesozavodsk\n",
      "Processing Record 36 of Set 9 | golub-dobrzyn\n",
      "Processing Record 37 of Set 9 | kavieng\n",
      "Processing Record 38 of Set 9 | grand gaube\n",
      "Processing Record 39 of Set 9 | bonthe\n",
      "Processing Record 40 of Set 9 | diofior\n",
      "Processing Record 41 of Set 9 | nurota\n",
      "Processing Record 42 of Set 9 | rosetta\n",
      "Processing Record 43 of Set 9 | hun\n",
      "Processing Record 44 of Set 9 | finschhafen\n",
      "Processing Record 45 of Set 9 | grindavik\n",
      "Processing Record 46 of Set 9 | miles city\n",
      "Processing Record 47 of Set 9 | srednekolymsk\n",
      "Processing Record 48 of Set 9 | dubbo\n",
      "Processing Record 49 of Set 9 | grimshaw\n",
      "Processing Record 1 of Set 10 | poum\n",
      "Processing Record 2 of Set 10 | praia\n",
      "Processing Record 3 of Set 10 | yenagoa\n",
      "Processing Record 4 of Set 10 | langsa\n",
      "Processing Record 5 of Set 10 | yeppoon\n",
      "City not found. Skipping...\n",
      "Processing Record 6 of Set 10 | zabaykalsk\n",
      "Processing Record 7 of Set 10 | okhotsk\n",
      "Processing Record 8 of Set 10 | oranjemund\n",
      "Processing Record 9 of Set 10 | itumba\n",
      "Processing Record 10 of Set 10 | arman\n",
      "Processing Record 11 of Set 10 | keetmanshoop\n",
      "Processing Record 12 of Set 10 | beloha\n",
      "Processing Record 13 of Set 10 | bougouni\n",
      "Processing Record 14 of Set 10 | pangkalanbuun\n",
      "Processing Record 15 of Set 10 | ayton\n",
      "City not found. Skipping...\n",
      "Processing Record 16 of Set 10 | progreso\n",
      "Processing Record 17 of Set 10 | altadena\n",
      "Processing Record 18 of Set 10 | zyryanka\n",
      "Processing Record 19 of Set 10 | port-cartier\n",
      "Processing Record 20 of Set 10 | alekseyevsk\n",
      "Processing Record 21 of Set 10 | sedona\n",
      "Processing Record 22 of Set 10 | nalvo\n",
      "Processing Record 23 of Set 10 | komsomolskiy\n",
      "City not found. Skipping...\n",
      "Processing Record 24 of Set 10 | isangel\n",
      "Processing Record 25 of Set 10 | qandala\n",
      "City not found. Skipping...\n",
      "Processing Record 26 of Set 10 | pontianak\n",
      "Processing Record 27 of Set 10 | esmeraldas\n",
      "Processing Record 28 of Set 10 | westerland\n",
      "Processing Record 29 of Set 10 | morondava\n",
      "Processing Record 30 of Set 10 | sembe\n",
      "Processing Record 31 of Set 10 | tera\n",
      "Processing Record 32 of Set 10 | springfield\n",
      "Processing Record 33 of Set 10 | liverpool\n",
      "Processing Record 34 of Set 10 | voi\n",
      "Processing Record 35 of Set 10 | neuquen\n",
      "Processing Record 36 of Set 10 | zeya\n",
      "Processing Record 37 of Set 10 | innisfail\n",
      "City not found. Skipping...\n",
      "City not found. Skipping...\n",
      "Processing Record 38 of Set 10 | barreirinha\n",
      "Processing Record 39 of Set 10 | kedrovyy\n",
      "Processing Record 40 of Set 10 | yumen\n",
      "City not found. Skipping...\n",
      "Processing Record 41 of Set 10 | capoeiras\n",
      "Processing Record 42 of Set 10 | antalaha\n",
      "Processing Record 43 of Set 10 | ayan\n",
      "Processing Record 44 of Set 10 | ilam\n",
      "Processing Record 45 of Set 10 | cayenne\n",
      "Processing Record 46 of Set 10 | ixtapa\n",
      "Processing Record 47 of Set 10 | san patricio\n",
      "Processing Record 48 of Set 10 | birao\n",
      "Processing Record 49 of Set 10 | sergeyevka\n",
      "Processing Record 1 of Set 11 | esna\n",
      "Processing Record 2 of Set 11 | nhulunbuy\n",
      "Processing Record 3 of Set 11 | timbiqui\n",
      "Processing Record 4 of Set 11 | hami\n",
      "Processing Record 5 of Set 11 | maniitsoq\n",
      "Processing Record 6 of Set 11 | carndonagh\n",
      "Processing Record 7 of Set 11 | nizhniy kuranakh\n",
      "Processing Record 8 of Set 11 | bilma\n",
      "Processing Record 9 of Set 11 | fort nelson\n",
      "Processing Record 10 of Set 11 | yarim\n",
      "Processing Record 11 of Set 11 | coquimbo\n",
      "Processing Record 12 of Set 11 | yangambi\n",
      "Processing Record 13 of Set 11 | pangoa\n",
      "Processing Record 14 of Set 11 | port blair\n",
      "Processing Record 15 of Set 11 | aksu\n",
      "Processing Record 16 of Set 11 | shingu\n",
      "Processing Record 17 of Set 11 | arrifes\n",
      "Processing Record 18 of Set 11 | myra\n",
      "Processing Record 19 of Set 11 | chumikan\n",
      "Processing Record 20 of Set 11 | flin flon\n",
      "Processing Record 21 of Set 11 | villa rica\n",
      "Processing Record 22 of Set 11 | wiarton\n",
      "Processing Record 23 of Set 11 | manggar\n",
      "City not found. Skipping...\n",
      "City not found. Skipping...\n",
      "Processing Record 24 of Set 11 | ostashkov\n",
      "Processing Record 25 of Set 11 | gore\n",
      "Processing Record 26 of Set 11 | lafayette\n",
      "Processing Record 27 of Set 11 | campobasso\n",
      "Processing Record 28 of Set 11 | sao sebastiao do paraiso\n",
      "Processing Record 29 of Set 11 | gusau\n",
      "Processing Record 30 of Set 11 | mahon\n",
      "City not found. Skipping...\n",
      "City not found. Skipping...\n",
      "Processing Record 31 of Set 11 | ponta delgada\n",
      "Processing Record 32 of Set 11 | sungai besar\n",
      "Processing Record 33 of Set 11 | magadan\n",
      "Processing Record 34 of Set 11 | roald\n",
      "Processing Record 35 of Set 11 | aguimes\n",
      "Processing Record 36 of Set 11 | gambela\n",
      "Processing Record 37 of Set 11 | sal rei\n",
      "Processing Record 38 of Set 11 | anjiang\n",
      "Processing Record 39 of Set 11 | hualmay\n",
      "Processing Record 40 of Set 11 | torquay\n",
      "Processing Record 41 of Set 11 | wembley\n",
      "------------------------------\n",
      "Data Retrieval Complete\n",
      "------------------------------\n"
     ]
    }
   ],
   "source": [
    "city_two = []\n",
    "cloudiness = []\n",
    "dates = []\n",
    "humidity = []\n",
    "lat = []\n",
    "lng = []\n",
    "max_temp = []\n",
    "wind_speed = []\n",
    "country = []\n",
    "\n",
    "count_one = 0\n",
    "set_one = 1\n",
    "\n",
    "for city in cities:\n",
    "    try:\n",
    "        response = requests.get(query_url + city.replace(\" \",\"&\")).json()\n",
    "        cloudiness.append(response['clouds']['all'])\n",
    "        country.append(response['sys']['country'])\n",
    "        dates.append(response['dt'])\n",
    "        humidity.append(response['main']['humidity'])\n",
    "        lat.append(response['coord']['lat'])\n",
    "        lng.append(response['coord']['lon'])\n",
    "        max_temp.append(response['main']['temp_max'])\n",
    "        wind_speed.append(response['wind']['speed'])\n",
    "        if count_one > 48:\n",
    "            count_one = 1\n",
    "            set_one += 1\n",
    "            city_two.append(city)\n",
    "        else:\n",
    "            count_one += 1\n",
    "            city_two.append(city)\n",
    "        print(f\"Processing Record {count_one} of Set {set_one} | {city}\")\n",
    "    except Exception:\n",
    "        print(\"City not found. Skipping...\")\n",
    "print(\"------------------------------\\nData Retrieval Complete\\n------------------------------\")"
   ]
  },
  {
   "cell_type": "markdown",
   "metadata": {},
   "source": [
    "### Convert Raw Data to DataFrame\n",
    "* Export the city data into a .csv.\n",
    "* Display the DataFrame"
   ]
  },
  {
   "cell_type": "code",
   "execution_count": 5,
   "metadata": {},
   "outputs": [],
   "source": [
    "weather_dict = {\n",
    "    \"City\": city_two,\n",
    "    \"Cloudiness\": cloudiness,\n",
    "    \"County\": country,\n",
    "    \"Date\": dates,\n",
    "    \"Humidity\": humidity,\n",
    "    \"Lat\": lat,\n",
    "    \"Lng\": lng,\n",
    "    \"Max Temp\": max_temp,\n",
    "    \"Wind Speed\": wind_speed\n",
    "}"
   ]
  },
  {
   "cell_type": "code",
   "execution_count": 6,
   "metadata": {},
   "outputs": [
    {
     "data": {
      "text/html": [
       "<div>\n",
       "<style scoped>\n",
       "    .dataframe tbody tr th:only-of-type {\n",
       "        vertical-align: middle;\n",
       "    }\n",
       "\n",
       "    .dataframe tbody tr th {\n",
       "        vertical-align: top;\n",
       "    }\n",
       "\n",
       "    .dataframe thead th {\n",
       "        text-align: right;\n",
       "    }\n",
       "</style>\n",
       "<table border=\"1\" class=\"dataframe\">\n",
       "  <thead>\n",
       "    <tr style=\"text-align: right;\">\n",
       "      <th></th>\n",
       "      <th>City</th>\n",
       "      <th>Cloudiness</th>\n",
       "      <th>County</th>\n",
       "      <th>Date</th>\n",
       "      <th>Humidity</th>\n",
       "      <th>Lat</th>\n",
       "      <th>Lng</th>\n",
       "      <th>Max Temp</th>\n",
       "      <th>Wind Speed</th>\n",
       "    </tr>\n",
       "  </thead>\n",
       "  <tbody>\n",
       "    <tr>\n",
       "      <th>0</th>\n",
       "      <td>punta arenas</td>\n",
       "      <td>0</td>\n",
       "      <td>PH</td>\n",
       "      <td>1586891529</td>\n",
       "      <td>83</td>\n",
       "      <td>8.99</td>\n",
       "      <td>125.34</td>\n",
       "      <td>75.99</td>\n",
       "      <td>4.72</td>\n",
       "    </tr>\n",
       "    <tr>\n",
       "      <th>1</th>\n",
       "      <td>pevek</td>\n",
       "      <td>91</td>\n",
       "      <td>RU</td>\n",
       "      <td>1586891529</td>\n",
       "      <td>89</td>\n",
       "      <td>69.70</td>\n",
       "      <td>170.31</td>\n",
       "      <td>5.27</td>\n",
       "      <td>1.70</td>\n",
       "    </tr>\n",
       "    <tr>\n",
       "      <th>2</th>\n",
       "      <td>rengo</td>\n",
       "      <td>83</td>\n",
       "      <td>CL</td>\n",
       "      <td>1586891530</td>\n",
       "      <td>25</td>\n",
       "      <td>-34.42</td>\n",
       "      <td>-70.87</td>\n",
       "      <td>77.00</td>\n",
       "      <td>8.05</td>\n",
       "    </tr>\n",
       "    <tr>\n",
       "      <th>3</th>\n",
       "      <td>myitkyina</td>\n",
       "      <td>0</td>\n",
       "      <td>MM</td>\n",
       "      <td>1586891531</td>\n",
       "      <td>37</td>\n",
       "      <td>25.38</td>\n",
       "      <td>97.40</td>\n",
       "      <td>76.24</td>\n",
       "      <td>2.66</td>\n",
       "    </tr>\n",
       "    <tr>\n",
       "      <th>4</th>\n",
       "      <td>yellowknife</td>\n",
       "      <td>90</td>\n",
       "      <td>CA</td>\n",
       "      <td>1586891532</td>\n",
       "      <td>79</td>\n",
       "      <td>62.46</td>\n",
       "      <td>-114.35</td>\n",
       "      <td>30.99</td>\n",
       "      <td>4.70</td>\n",
       "    </tr>\n",
       "    <tr>\n",
       "      <th>5</th>\n",
       "      <td>kargasok</td>\n",
       "      <td>73</td>\n",
       "      <td>RU</td>\n",
       "      <td>1586891532</td>\n",
       "      <td>95</td>\n",
       "      <td>59.06</td>\n",
       "      <td>80.86</td>\n",
       "      <td>34.75</td>\n",
       "      <td>5.10</td>\n",
       "    </tr>\n",
       "    <tr>\n",
       "      <th>6</th>\n",
       "      <td>hilo</td>\n",
       "      <td>75</td>\n",
       "      <td>US</td>\n",
       "      <td>1586891532</td>\n",
       "      <td>83</td>\n",
       "      <td>19.73</td>\n",
       "      <td>-155.09</td>\n",
       "      <td>72.00</td>\n",
       "      <td>3.36</td>\n",
       "    </tr>\n",
       "    <tr>\n",
       "      <th>7</th>\n",
       "      <td>bolobo</td>\n",
       "      <td>39</td>\n",
       "      <td>CD</td>\n",
       "      <td>1586891532</td>\n",
       "      <td>63</td>\n",
       "      <td>-2.17</td>\n",
       "      <td>16.23</td>\n",
       "      <td>81.86</td>\n",
       "      <td>2.73</td>\n",
       "    </tr>\n",
       "    <tr>\n",
       "      <th>8</th>\n",
       "      <td>santa isabel</td>\n",
       "      <td>44</td>\n",
       "      <td>PH</td>\n",
       "      <td>1586891532</td>\n",
       "      <td>79</td>\n",
       "      <td>17.49</td>\n",
       "      <td>120.43</td>\n",
       "      <td>75.97</td>\n",
       "      <td>1.70</td>\n",
       "    </tr>\n",
       "    <tr>\n",
       "      <th>9</th>\n",
       "      <td>hermanus</td>\n",
       "      <td>1</td>\n",
       "      <td>ZA</td>\n",
       "      <td>1586891472</td>\n",
       "      <td>87</td>\n",
       "      <td>-34.42</td>\n",
       "      <td>19.23</td>\n",
       "      <td>57.00</td>\n",
       "      <td>9.15</td>\n",
       "    </tr>\n",
       "    <tr>\n",
       "      <th>10</th>\n",
       "      <td>balikpapan</td>\n",
       "      <td>68</td>\n",
       "      <td>ID</td>\n",
       "      <td>1586891256</td>\n",
       "      <td>86</td>\n",
       "      <td>-1.27</td>\n",
       "      <td>116.83</td>\n",
       "      <td>77.23</td>\n",
       "      <td>4.05</td>\n",
       "    </tr>\n",
       "    <tr>\n",
       "      <th>11</th>\n",
       "      <td>bethel</td>\n",
       "      <td>75</td>\n",
       "      <td>US</td>\n",
       "      <td>1586891356</td>\n",
       "      <td>34</td>\n",
       "      <td>41.37</td>\n",
       "      <td>-73.41</td>\n",
       "      <td>57.99</td>\n",
       "      <td>12.75</td>\n",
       "    </tr>\n",
       "    <tr>\n",
       "      <th>12</th>\n",
       "      <td>adrar</td>\n",
       "      <td>88</td>\n",
       "      <td>MR</td>\n",
       "      <td>1586891533</td>\n",
       "      <td>41</td>\n",
       "      <td>20.50</td>\n",
       "      <td>-10.07</td>\n",
       "      <td>76.98</td>\n",
       "      <td>19.71</td>\n",
       "    </tr>\n",
       "    <tr>\n",
       "      <th>13</th>\n",
       "      <td>kaitangata</td>\n",
       "      <td>80</td>\n",
       "      <td>NZ</td>\n",
       "      <td>1586891534</td>\n",
       "      <td>75</td>\n",
       "      <td>-46.28</td>\n",
       "      <td>169.85</td>\n",
       "      <td>42.01</td>\n",
       "      <td>1.01</td>\n",
       "    </tr>\n",
       "    <tr>\n",
       "      <th>14</th>\n",
       "      <td>dikson</td>\n",
       "      <td>100</td>\n",
       "      <td>RU</td>\n",
       "      <td>1586891534</td>\n",
       "      <td>95</td>\n",
       "      <td>73.51</td>\n",
       "      <td>80.55</td>\n",
       "      <td>10.78</td>\n",
       "      <td>10.83</td>\n",
       "    </tr>\n",
       "    <tr>\n",
       "      <th>15</th>\n",
       "      <td>east london</td>\n",
       "      <td>40</td>\n",
       "      <td>IS</td>\n",
       "      <td>1586891534</td>\n",
       "      <td>52</td>\n",
       "      <td>65.00</td>\n",
       "      <td>-15.00</td>\n",
       "      <td>41.00</td>\n",
       "      <td>13.87</td>\n",
       "    </tr>\n",
       "    <tr>\n",
       "      <th>16</th>\n",
       "      <td>linxia</td>\n",
       "      <td>74</td>\n",
       "      <td>CN</td>\n",
       "      <td>1586891534</td>\n",
       "      <td>19</td>\n",
       "      <td>35.60</td>\n",
       "      <td>103.21</td>\n",
       "      <td>53.46</td>\n",
       "      <td>1.19</td>\n",
       "    </tr>\n",
       "    <tr>\n",
       "      <th>17</th>\n",
       "      <td>belmonte</td>\n",
       "      <td>75</td>\n",
       "      <td>BR</td>\n",
       "      <td>1586891534</td>\n",
       "      <td>83</td>\n",
       "      <td>-15.86</td>\n",
       "      <td>-38.88</td>\n",
       "      <td>78.80</td>\n",
       "      <td>4.70</td>\n",
       "    </tr>\n",
       "    <tr>\n",
       "      <th>18</th>\n",
       "      <td>albany</td>\n",
       "      <td>75</td>\n",
       "      <td>US</td>\n",
       "      <td>1586891534</td>\n",
       "      <td>29</td>\n",
       "      <td>42.60</td>\n",
       "      <td>-73.97</td>\n",
       "      <td>54.00</td>\n",
       "      <td>14.99</td>\n",
       "    </tr>\n",
       "    <tr>\n",
       "      <th>19</th>\n",
       "      <td>camopi</td>\n",
       "      <td>100</td>\n",
       "      <td>GF</td>\n",
       "      <td>1586891535</td>\n",
       "      <td>81</td>\n",
       "      <td>3.17</td>\n",
       "      <td>-52.32</td>\n",
       "      <td>78.35</td>\n",
       "      <td>0.85</td>\n",
       "    </tr>\n",
       "  </tbody>\n",
       "</table>\n",
       "</div>"
      ],
      "text/plain": [
       "            City  Cloudiness County        Date  Humidity    Lat     Lng  \\\n",
       "0   punta arenas           0     PH  1586891529        83   8.99  125.34   \n",
       "1          pevek          91     RU  1586891529        89  69.70  170.31   \n",
       "2          rengo          83     CL  1586891530        25 -34.42  -70.87   \n",
       "3      myitkyina           0     MM  1586891531        37  25.38   97.40   \n",
       "4    yellowknife          90     CA  1586891532        79  62.46 -114.35   \n",
       "5       kargasok          73     RU  1586891532        95  59.06   80.86   \n",
       "6           hilo          75     US  1586891532        83  19.73 -155.09   \n",
       "7         bolobo          39     CD  1586891532        63  -2.17   16.23   \n",
       "8   santa isabel          44     PH  1586891532        79  17.49  120.43   \n",
       "9       hermanus           1     ZA  1586891472        87 -34.42   19.23   \n",
       "10    balikpapan          68     ID  1586891256        86  -1.27  116.83   \n",
       "11        bethel          75     US  1586891356        34  41.37  -73.41   \n",
       "12         adrar          88     MR  1586891533        41  20.50  -10.07   \n",
       "13    kaitangata          80     NZ  1586891534        75 -46.28  169.85   \n",
       "14        dikson         100     RU  1586891534        95  73.51   80.55   \n",
       "15   east london          40     IS  1586891534        52  65.00  -15.00   \n",
       "16        linxia          74     CN  1586891534        19  35.60  103.21   \n",
       "17      belmonte          75     BR  1586891534        83 -15.86  -38.88   \n",
       "18        albany          75     US  1586891534        29  42.60  -73.97   \n",
       "19        camopi         100     GF  1586891535        81   3.17  -52.32   \n",
       "\n",
       "    Max Temp  Wind Speed  \n",
       "0      75.99        4.72  \n",
       "1       5.27        1.70  \n",
       "2      77.00        8.05  \n",
       "3      76.24        2.66  \n",
       "4      30.99        4.70  \n",
       "5      34.75        5.10  \n",
       "6      72.00        3.36  \n",
       "7      81.86        2.73  \n",
       "8      75.97        1.70  \n",
       "9      57.00        9.15  \n",
       "10     77.23        4.05  \n",
       "11     57.99       12.75  \n",
       "12     76.98       19.71  \n",
       "13     42.01        1.01  \n",
       "14     10.78       10.83  \n",
       "15     41.00       13.87  \n",
       "16     53.46        1.19  \n",
       "17     78.80        4.70  \n",
       "18     54.00       14.99  \n",
       "19     78.35        0.85  "
      ]
     },
     "execution_count": 6,
     "metadata": {},
     "output_type": "execute_result"
    }
   ],
   "source": [
    "weather_dataframe = pd.DataFrame(weather_dict)\n",
    "\n",
    "weather_dataframe.head(20)"
   ]
  },
  {
   "cell_type": "markdown",
   "metadata": {},
   "source": [
    "## Inspect the data and remove the cities where the humidity > 100%.\n",
    "----\n",
    "Skip this step if there are no cities that have humidity > 100%. "
   ]
  },
  {
   "cell_type": "code",
   "execution_count": 7,
   "metadata": {},
   "outputs": [
    {
     "data": {
      "text/plain": [
       "531"
      ]
     },
     "execution_count": 7,
     "metadata": {},
     "output_type": "execute_result"
    }
   ],
   "source": [
    "\n",
    "# Export the City_Data into a csv\n",
    "weather_dataframe.to_csv(r'output_data\\weather_data.csv')\n",
    "\n",
    "count = len(weather_dataframe)\n",
    "count"
   ]
  },
  {
   "cell_type": "markdown",
   "metadata": {},
   "source": [
    "## Plotting the Data\n",
    "* Use proper labeling of the plots using plot titles (including date of analysis) and axes labels.\n",
    "* Save the plotted figures as .pngs."
   ]
  },
  {
   "cell_type": "markdown",
   "metadata": {},
   "source": [
    "## Latitude vs. Temperature Plot"
   ]
  },
  {
   "cell_type": "code",
   "execution_count": 8,
   "metadata": {
    "scrolled": true
   },
   "outputs": [
    {
     "data": {
      "image/png": "[encoded data removed]",
      "text/plain": [
       "<Figure size 432x288 with 1 Axes>"
      ]
     },
     "metadata": {
      "needs_background": "light"
     },
     "output_type": "display_data"
    }
   ],
   "source": [
    "scatlat = weather_dataframe['Lat']\n",
    "scattemp = weather_dataframe['Max Temp']\n",
    "\n",
    "plt.scatter(scatlat, scattemp)\n",
    "plt.title('Latitude vs. Max Temp')\n",
    "plt.xlabel('Latitude')\n",
    "plt.ylabel('Max Temperature (F)')\n",
    "plt.savefig('output_data\\Scatter_LatvMaxTemp')\n",
    "plt.show()"
   ]
  },
  {
   "cell_type": "markdown",
   "metadata": {},
   "source": [
    "## Latitude vs. Humidity Plot"
   ]
  },
  {
   "cell_type": "code",
   "execution_count": 9,
   "metadata": {},
   "outputs": [
    {
     "data": {
      "image/png": "[encoded data removed]",
      "text/plain": [
       "<Figure size 432x288 with 1 Axes>"
      ]
     },
     "metadata": {
      "needs_background": "light"
     },
     "output_type": "display_data"
    }
   ],
   "source": [
    "scathumid = weather_dataframe['Humidity']\n",
    "\n",
    "plt.scatter(scatlat,scathumid)\n",
    "plt.title('Latitude vs. Humidity')\n",
    "plt.xlabel('Latitude')\n",
    "plt.ylabel('Humidity (%)')\n",
    "plt.savefig('output_data\\Scater_LatvHumidity')\n",
    "plt.show()"
   ]
  },
  {
   "cell_type": "markdown",
   "metadata": {},
   "source": [
    "## Latitude vs. Cloudiness Plot"
   ]
  },
  {
   "cell_type": "code",
   "execution_count": 10,
   "metadata": {},
   "outputs": [
    {
     "data": {
      "image/png": "[encoded data removed]",
      "text/plain": [
       "<Figure size 432x288 with 1 Axes>"
      ]
     },
     "metadata": {
      "needs_background": "light"
     },
     "output_type": "display_data"
    }
   ],
   "source": [
    "scatcloud = weather_dataframe['Cloudiness']\n",
    "\n",
    "plt.scatter(scatlat,scatcloud)\n",
    "plt.title('Latitude vs. Cloudiness')\n",
    "plt.xlabel('Latitude')\n",
    "plt.ylabel('Cloudiness (%)')\n",
    "plt.savefig('output_data\\Scater_LatvCloudiness')\n",
    "plt.show()"
   ]
  },
  {
   "cell_type": "markdown",
   "metadata": {},
   "source": [
    "## Latitude vs. Wind Speed Plot"
   ]
  },
  {
   "cell_type": "code",
   "execution_count": 11,
   "metadata": {},
   "outputs": [
    {
     "data": {
      "image/png": "[encoded data removed]",
      "text/plain": [
       "<Figure size 432x288 with 1 Axes>"
      ]
     },
     "metadata": {
      "needs_background": "light"
     },
     "output_type": "display_data"
    }
   ],
   "source": [
    "scatwind = weather_dataframe['Wind Speed']\n",
    "\n",
    "plt.scatter(scatlat,scatwind)\n",
    "plt.title('Latitude vs. Wind Speed')\n",
    "plt.xlabel('Latitude')\n",
    "plt.ylabel('Wind Speed (mph)')\n",
    "plt.savefig('output_data\\Scater_LatvWindSpeed')\n",
    "plt.show()"
   ]
  },
  {
   "cell_type": "markdown",
   "metadata": {},
   "source": [
    "## Linear Regression"
   ]
  },
  {
   "cell_type": "code",
   "execution_count": 12,
   "metadata": {},
   "outputs": [],
   "source": [
    "# OPTIONAL: Create a function to create Linear Regression plots\n"
   ]
  },
  {
   "cell_type": "code",
   "execution_count": 13,
   "metadata": {},
   "outputs": [
    {
     "data": {
      "text/html": [
       "<div>\n",
       "<style scoped>\n",
       "    .dataframe tbody tr th:only-of-type {\n",
       "        vertical-align: middle;\n",
       "    }\n",
       "\n",
       "    .dataframe tbody tr th {\n",
       "        vertical-align: top;\n",
       "    }\n",
       "\n",
       "    .dataframe thead th {\n",
       "        text-align: right;\n",
       "    }\n",
       "</style>\n",
       "<table border=\"1\" class=\"dataframe\">\n",
       "  <thead>\n",
       "    <tr style=\"text-align: right;\">\n",
       "      <th></th>\n",
       "      <th>City</th>\n",
       "      <th>Cloudiness</th>\n",
       "      <th>County</th>\n",
       "      <th>Date</th>\n",
       "      <th>Humidity</th>\n",
       "      <th>Lat</th>\n",
       "      <th>Lng</th>\n",
       "      <th>Max Temp</th>\n",
       "      <th>Wind Speed</th>\n",
       "    </tr>\n",
       "  </thead>\n",
       "  <tbody>\n",
       "    <tr>\n",
       "      <th>2</th>\n",
       "      <td>rengo</td>\n",
       "      <td>83</td>\n",
       "      <td>CL</td>\n",
       "      <td>1586891530</td>\n",
       "      <td>25</td>\n",
       "      <td>-34.42</td>\n",
       "      <td>-70.87</td>\n",
       "      <td>77.00</td>\n",
       "      <td>8.05</td>\n",
       "    </tr>\n",
       "    <tr>\n",
       "      <th>7</th>\n",
       "      <td>bolobo</td>\n",
       "      <td>39</td>\n",
       "      <td>CD</td>\n",
       "      <td>1586891532</td>\n",
       "      <td>63</td>\n",
       "      <td>-2.17</td>\n",
       "      <td>16.23</td>\n",
       "      <td>81.86</td>\n",
       "      <td>2.73</td>\n",
       "    </tr>\n",
       "    <tr>\n",
       "      <th>9</th>\n",
       "      <td>hermanus</td>\n",
       "      <td>1</td>\n",
       "      <td>ZA</td>\n",
       "      <td>1586891472</td>\n",
       "      <td>87</td>\n",
       "      <td>-34.42</td>\n",
       "      <td>19.23</td>\n",
       "      <td>57.00</td>\n",
       "      <td>9.15</td>\n",
       "    </tr>\n",
       "    <tr>\n",
       "      <th>10</th>\n",
       "      <td>balikpapan</td>\n",
       "      <td>68</td>\n",
       "      <td>ID</td>\n",
       "      <td>1586891256</td>\n",
       "      <td>86</td>\n",
       "      <td>-1.27</td>\n",
       "      <td>116.83</td>\n",
       "      <td>77.23</td>\n",
       "      <td>4.05</td>\n",
       "    </tr>\n",
       "    <tr>\n",
       "      <th>13</th>\n",
       "      <td>kaitangata</td>\n",
       "      <td>80</td>\n",
       "      <td>NZ</td>\n",
       "      <td>1586891534</td>\n",
       "      <td>75</td>\n",
       "      <td>-46.28</td>\n",
       "      <td>169.85</td>\n",
       "      <td>42.01</td>\n",
       "      <td>1.01</td>\n",
       "    </tr>\n",
       "  </tbody>\n",
       "</table>\n",
       "</div>"
      ],
      "text/plain": [
       "          City  Cloudiness County        Date  Humidity    Lat     Lng  \\\n",
       "2        rengo          83     CL  1586891530        25 -34.42  -70.87   \n",
       "7       bolobo          39     CD  1586891532        63  -2.17   16.23   \n",
       "9     hermanus           1     ZA  1586891472        87 -34.42   19.23   \n",
       "10  balikpapan          68     ID  1586891256        86  -1.27  116.83   \n",
       "13  kaitangata          80     NZ  1586891534        75 -46.28  169.85   \n",
       "\n",
       "    Max Temp  Wind Speed  \n",
       "2      77.00        8.05  \n",
       "7      81.86        2.73  \n",
       "9      57.00        9.15  \n",
       "10     77.23        4.05  \n",
       "13     42.01        1.01  "
      ]
     },
     "execution_count": 13,
     "metadata": {},
     "output_type": "execute_result"
    }
   ],
   "source": [
    "# Create Northern and Southern Hemisphere DataFrames\n",
    "northern_hemi = weather_dataframe.loc[weather_dataframe['Lat']>0.01]\n",
    "southern_hemi = weather_dataframe.loc[weather_dataframe['Lat']<-0.01]\n",
    "\n",
    "#northern_hemi.head()\n",
    "southern_hemi.head()"
   ]
  },
  {
   "cell_type": "markdown",
   "metadata": {},
   "source": [
    "####  Northern Hemisphere - Max Temp vs. Latitude Linear Regression"
   ]
  },
  {
   "cell_type": "code",
   "execution_count": 14,
   "metadata": {},
   "outputs": [
    {
     "data": {
      "image/png": "[encoded data removed]",
      "text/plain": [
       "<Figure size 432x288 with 1 Axes>"
      ]
     },
     "metadata": {
      "needs_background": "light"
     },
     "output_type": "display_data"
    },
    {
     "data": {
      "text/plain": [
       "<Figure size 432x288 with 0 Axes>"
      ]
     },
     "metadata": {},
     "output_type": "display_data"
    }
   ],
   "source": [
    "x_values = northern_hemi['Lat']\n",
    "y_values = northern_hemi['Max Temp']\n",
    "(slope, intercept, rvalue, pvalue, stderr) = linregress(x_values, y_values)\n",
    "regress_values = x_values * slope + intercept\n",
    "line_eq = \"y = \" + str(round(slope,2)) + \"x + \" + str(round(intercept,2))\n",
    "plt.scatter(x_values,y_values)\n",
    "plt.plot(x_values,regress_values,\"red\")\n",
    "plt.annotate(line_eq,(5,10),fontsize=15,color=\"red\")\n",
    "\n",
    "plt.ylim(0,100)\n",
    "plt.xlim(0, 80)\n",
    "\n",
    "plt.ylabel(\"Max. Temp\")\n",
    "plt.xlabel(\"Latitude\")\n",
    "plt.show()\n",
    "\n",
    "plt.savefig('NorthernLinearRegression.png')"
   ]
  },
  {
   "cell_type": "markdown",
   "metadata": {},
   "source": [
    "####  Southern Hemisphere - Max Temp vs. Latitude Linear Regression"
   ]
  },
  {
   "cell_type": "code",
   "execution_count": 15,
   "metadata": {},
   "outputs": [
    {
     "data": {
      "image/png": "[encoded data removed]",
      "text/plain": [
       "<Figure size 432x288 with 1 Axes>"
      ]
     },
     "metadata": {
      "needs_background": "light"
     },
     "output_type": "display_data"
    },
    {
     "data": {
      "text/plain": [
       "<Figure size 432x288 with 0 Axes>"
      ]
     },
     "metadata": {},
     "output_type": "display_data"
    }
   ],
   "source": [
    "x_values = southern_hemi['Lat']\n",
    "y_values = southern_hemi['Max Temp']\n",
    "(slope, intercept, rvalue, pvalue, stderr) = linregress(x_values, y_values)\n",
    "regress_values = x_values * slope + intercept\n",
    "line_eq = \"y = \" + str(round(slope,2)) + \"x + \" + str(round(intercept,2))\n",
    "plt.scatter(x_values,y_values)\n",
    "plt.plot(x_values,regress_values,\"red\")\n",
    "plt.annotate(line_eq,(-30,50),fontsize=15,color=\"red\")\n",
    "\n",
    "plt.ylim(30, 100)\n",
    "plt.xlim(-60, 0, 10)\n",
    "\n",
    "plt.ylabel(\"Max. Temp\")\n",
    "plt.xlabel(\"Latitude\")\n",
    "plt.show()\n",
    "\n",
    "plt.savefig('SouthernLinearRegression.png')"
   ]
  },
  {
   "cell_type": "markdown",
   "metadata": {},
   "source": [
    "####  Northern Hemisphere - Humidity (%) vs. Latitude Linear Regression"
   ]
  },
  {
   "cell_type": "code",
   "execution_count": 16,
   "metadata": {},
   "outputs": [
    {
     "data": {
      "image/png": "[encoded data removed]",
      "text/plain": [
       "<Figure size 432x288 with 1 Axes>"
      ]
     },
     "metadata": {
      "needs_background": "light"
     },
     "output_type": "display_data"
    },
    {
     "data": {
      "text/plain": [
       "<Figure size 432x288 with 0 Axes>"
      ]
     },
     "metadata": {},
     "output_type": "display_data"
    }
   ],
   "source": [
    "x_values = northern_hemi['Lat']\n",
    "y_values = northern_hemi['Humidity']\n",
    "(slope, intercept, rvalue, pvalue, stderr) = linregress(x_values, y_values)\n",
    "regress_values = x_values * slope + intercept\n",
    "line_eq = \"y = \" + str(round(slope,2)) + \"x + \" + str(round(intercept,2))\n",
    "plt.scatter(x_values,y_values)\n",
    "plt.plot(x_values,regress_values,\"r-\")\n",
    "plt.annotate(line_eq,(40,10),fontsize=15,color=\"red\")\n",
    "plt.ylabel(\"Humidity\")\n",
    "plt.xlabel(\"Latitude\")\n",
    "plt.show()\n",
    "\n",
    "plt.savefig(\"NorthernHumidityLinearRegression.png\")"
   ]
  },
  {
   "cell_type": "markdown",
   "metadata": {},
   "source": [
    "####  Southern Hemisphere - Humidity (%) vs. Latitude Linear Regression"
   ]
  },
  {
   "cell_type": "code",
   "execution_count": 17,
   "metadata": {},
   "outputs": [
    {
     "data": {
      "image/png": "[encoded data removed]",
      "text/plain": [
       "<Figure size 432x288 with 1 Axes>"
      ]
     },
     "metadata": {
      "needs_background": "light"
     },
     "output_type": "display_data"
    },
    {
     "data": {
      "text/plain": [
       "<Figure size 432x288 with 0 Axes>"
      ]
     },
     "metadata": {},
     "output_type": "display_data"
    }
   ],
   "source": [
    "x_values = southern_hemi['Lat']\n",
    "y_values = southern_hemi['Humidity']\n",
    "(slope, intercept, rvalue, pvalue, stderr) = linregress(x_values, y_values)\n",
    "regress_values = x_values * slope + intercept\n",
    "line_eq = \"y = \" + str(round(slope,2)) + \"x + \" + str(round(intercept,2))\n",
    "plt.scatter(x_values,y_values)\n",
    "plt.plot(x_values,regress_values,\"r-\")\n",
    "plt.annotate(line_eq,(-25,10),fontsize=15,color=\"red\")\n",
    "plt.ylabel(\"Humidity\")\n",
    "plt.xlabel(\"Latitude\")\n",
    "plt.show()\n",
    "\n",
    "plt.savefig(\"SouthernHumidityLinearRegression.png\")"
   ]
  },
  {
   "cell_type": "markdown",
   "metadata": {},
   "source": [
    "####  Northern Hemisphere - Cloudiness (%) vs. Latitude Linear Regression"
   ]
  },
  {
   "cell_type": "code",
   "execution_count": 18,
   "metadata": {},
   "outputs": [
    {
     "data": {
      "image/png": "[encoded data removed]",
      "text/plain": [
       "<Figure size 432x288 with 1 Axes>"
      ]
     },
     "metadata": {
      "needs_background": "light"
     },
     "output_type": "display_data"
    },
    {
     "data": {
      "text/plain": [
       "<Figure size 432x288 with 0 Axes>"
      ]
     },
     "metadata": {},
     "output_type": "display_data"
    }
   ],
   "source": [
    "x_values = northern_hemi['Lat']\n",
    "y_values = northern_hemi['Cloudiness']\n",
    "(slope, intercept, rvalue, pvalue, stderr) = linregress(x_values, y_values)\n",
    "regress_values = x_values * slope + intercept\n",
    "line_eq = \"y = \" + str(round(slope,2)) + \"x + \" + str(round(intercept,2))\n",
    "plt.scatter(x_values,y_values)\n",
    "plt.plot(x_values,regress_values,\"r-\")\n",
    "plt.annotate(line_eq,(6,10),fontsize=15,color=\"red\")\n",
    "plt.ylabel(\"Cloudiness\")\n",
    "plt.xlabel(\"Latitude\")\n",
    "plt.show()\n",
    "\n",
    "plt.savefig(\"NorthernCloudinessLinearRegression.png\")"
   ]
  },
  {
   "cell_type": "markdown",
   "metadata": {},
   "source": [
    "####  Southern Hemisphere - Cloudiness (%) vs. Latitude Linear Regression"
   ]
  },
  {
   "cell_type": "code",
   "execution_count": 19,
   "metadata": {},
   "outputs": [
    {
     "data": {
      "image/png": "[encoded data removed]",
      "text/plain": [
       "<Figure size 432x288 with 1 Axes>"
      ]
     },
     "metadata": {
      "needs_background": "light"
     },
     "output_type": "display_data"
    }
   ],
   "source": [
    "x_values = northern_hemi['Lat']\n",
    "y_values = northern_hemi['Cloudiness']\n",
    "(slope, intercept, rvalue, pvalue, stderr) = linregress(x_values, y_values)\n",
    "regress_values = x_values * slope + intercept\n",
    "line_eq = \"y = \" + str(round(slope,2)) + \"x + \" + str(round(intercept,2))\n",
    "plt.scatter(x_values,y_values)\n",
    "plt.plot(x_values,regress_values,\"r-\")\n",
    "plt.annotate(line_eq,(6,10),fontsize=15,color=\"red\")\n",
    "plt.ylabel(\"Cloudiness\")\n",
    "plt.xlabel(\"Latitude\")\n",
    "plt.show()\n",
    "\n",
    "#plt.savefig(\"NorthernCloudinessLinearRegression.png\")"
   ]
  },
  {
   "cell_type": "markdown",
   "metadata": {},
   "source": [
    "####  Northern Hemisphere - Wind Speed (mph) vs. Latitude Linear Regression"
   ]
  },
  {
   "cell_type": "code",
   "execution_count": 22,
   "metadata": {},
   "outputs": [
    {
     "data": {
      "image/png": "[encoded data removed]",
      "text/plain": [
       "<Figure size 432x288 with 1 Axes>"
      ]
     },
     "metadata": {
      "needs_background": "light"
     },
     "output_type": "display_data"
    },
    {
     "data": {
      "text/plain": [
       "<Figure size 432x288 with 0 Axes>"
      ]
     },
     "metadata": {},
     "output_type": "display_data"
    }
   ],
   "source": [
    "x_values = northern_hemi['Lat']\n",
    "y_values = northern_hemi['Wind Speed']\n",
    "(slope, intercept, rvalue, pvalue, stderr) = linregress(x_values, y_values)\n",
    "regress_values = x_values * slope + intercept\n",
    "line_eq = \"y = \" + str(round(slope,2)) + \"x + \" + str(round(intercept,2))\n",
    "plt.scatter(x_values,y_values)\n",
    "plt.plot(x_values,regress_values,\"r-\")\n",
    "plt.annotate(line_eq,(45,35),fontsize=15,color=\"red\")\n",
    "plt.ylabel(\"Cloudiness\")\n",
    "plt.xlabel(\"Latitude\")\n",
    "plt.show()\n",
    "\n",
    "plt.savefig(\"NorthernWindSpeedLinearRegression.png\")"
   ]
  },
  {
   "cell_type": "markdown",
   "metadata": {},
   "source": [
    "####  Southern Hemisphere - Wind Speed (mph) vs. Latitude Linear Regression"
   ]
  },
  {
   "cell_type": "code",
   "execution_count": 25,
   "metadata": {},
   "outputs": [
    {
     "data": {
      "image/png": "[encoded data removed]",
      "text/plain": [
       "<Figure size 432x288 with 1 Axes>"
      ]
     },
     "metadata": {
      "needs_background": "light"
     },
     "output_type": "display_data"
    },
    {
     "data": {
      "text/plain": [
       "<Figure size 432x288 with 0 Axes>"
      ]
     },
     "metadata": {},
     "output_type": "display_data"
    }
   ],
   "source": [
    "x_values = southern_hemi['Lat']\n",
    "y_values = southern_hemi['Wind Speed']\n",
    "(slope, intercept, rvalue, pvalue, stderr) = linregress(x_values, y_values)\n",
    "regress_values = x_values * slope + intercept\n",
    "line_eq = \"y = \" + str(round(slope,2)) + \"x + \" + str(round(intercept,2))\n",
    "plt.scatter(x_values,y_values)\n",
    "plt.plot(x_values,regress_values,\"r-\")\n",
    "plt.annotate(line_eq,(-50,20),fontsize=15,color=\"red\")\n",
    "plt.ylabel(\"Wind Speed\")\n",
    "plt.xlabel(\"Latitude\")\n",
    "plt.show()\n",
    "\n",
    "plt.savefig(\"SouthernWindSpeedLinearRegression.png\")"
   ]
  },
  {
   "cell_type": "code",
   "execution_count": null,
   "metadata": {},
   "outputs": [],
   "source": []
  }
 ],
 "metadata": {
  "anaconda-cloud": {},
  "kernel_info": {
   "name": "python3"
  },
  "kernelspec": {
   "display_name": "Python 3",
   "language": "python",
   "name": "python3"
  },
  "language_info": {
   "codemirror_mode": {
    "name": "ipython",
    "version": 3
   },
   "file_extension": ".py",
   "mimetype": "text/x-python",
   "name": "python",
   "nbconvert_exporter": "python",
   "pygments_lexer": "ipython3",
   "version": "3.6.10"
  },
  "latex_envs": {
   "LaTeX_envs_menu_present": true,
   "autoclose": false,
   "autocomplete": true,
   "bibliofile": "biblio.bib",
   "cite_by": "apalike",
   "current_citInitial": 1,
   "eqLabelWithNumbers": true,
   "eqNumInitial": 1,
   "hotkeys": {
    "equation": "Ctrl-E",
    "itemize": "Ctrl-I"
   },
   "labels_anchors": false,
   "latex_user_defs": false,
   "report_style_numbering": false,
   "user_envs_cfg": false
  },
  "nteract": {
   "version": "0.12.3"
  }
 },
 "nbformat": 4,
 "nbformat_minor": 2
}
