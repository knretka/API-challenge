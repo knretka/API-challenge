{
 "cells": [
  {
   "cell_type": "markdown",
   "metadata": {},
   "source": [
    "# WeatherPy\n",
    "----\n",
    "\n",
    "#### Observations & Analysis\n",
    "- There is no relationship between latitude and humidity level. \n",
    "- Highest maximum temperatures occurred between -20 and 20 latitude. Temperature decreases as you move further away from 0 latitude. This is also represented by the linear regression plots for both southern and northern hemisphere. \n",
    "- There is no relationship between latitude and cloudiness or latitude and wind speed\n"
   ]
  },
  {
   "cell_type": "code",
   "execution_count": 5,
   "metadata": {
    "scrolled": true
   },
   "outputs": [],
   "source": [
    "# Dependencies and Setup\n",
    "import matplotlib.pyplot as plt\n",
    "import pandas as pd\n",
    "import numpy as np\n",
    "import requests\n",
    "import time\n",
    "from scipy.stats import linregress\n",
    "\n",
    "# Import API key\n",
    "from config import api_key\n",
    "\n",
    "# Incorporated citipy to determine city based on latitude and longitude\n",
    "from citipy import citipy\n",
    "\n",
    "# Output File (CSV)\n",
    "output_data_file = \"cities.csv\"\n",
    "\n",
    "# Range of latitudes and longitudes\n",
    "lat_range = (-90, 90)\n",
    "lng_range = (-180, 180)"
   ]
  },
  {
   "cell_type": "markdown",
   "metadata": {},
   "source": [
    "## Generate Cities List"
   ]
  },
  {
   "cell_type": "code",
   "execution_count": 6,
   "metadata": {},
   "outputs": [
    {
     "data": {
      "text/plain": [
       "630"
      ]
     },
     "execution_count": 6,
     "metadata": {},
     "output_type": "execute_result"
    }
   ],
   "source": [
    "# List for holding lat_lngs and cities\n",
    "lat_lngs = []\n",
    "cities = []\n",
    "\n",
    "# Create a set of random lat and lng combinations\n",
    "lats = np.random.uniform(lat_range[0], lat_range[1], size=1500)\n",
    "lngs = np.random.uniform(lng_range[0], lng_range[1], size=1500)\n",
    "lat_lngs = zip(lats, lngs)\n",
    "\n",
    "# Identify nearest city for each lat, lng combination\n",
    "for lat_lng in lat_lngs:\n",
    "    city = citipy.nearest_city(lat_lng[0], lat_lng[1]).city_name\n",
    "    \n",
    "    # If the city is unique, then add it to a our cities list\n",
    "    if city not in cities:\n",
    "        cities.append(city)\n",
    "\n",
    "# Print the city count to confirm sufficient count\n",
    "len(cities)"
   ]
  },
  {
   "cell_type": "markdown",
   "metadata": {},
   "source": [
    "### Perform API Calls\n",
    "* Perform a weather check on each city using a series of successive API calls.\n",
    "* Include a print log of each city as it'sbeing processed (with the city number and city name).\n"
   ]
  },
  {
   "cell_type": "code",
   "execution_count": 7,
   "metadata": {},
   "outputs": [
    {
     "name": "stdout",
     "output_type": "stream",
     "text": [
      "http://api.openweathermap.org/data/2.5/weather?appid=17ba8b3c6942b1a6938acf08cf8eb325&units=imperial&q=\n"
     ]
    }
   ],
   "source": [
    "units = 'imperial'\n",
    "\n",
    "query_url = f\"http://api.openweathermap.org/data/2.5/weather?appid={api_key}&units={units}&q=\"\n",
    "\n",
    "count_one = 0\n",
    "set_one = 0\n",
    "\n",
    "print(query_url)"
   ]
  },
  {
   "cell_type": "code",
   "execution_count": 8,
   "metadata": {},
   "outputs": [
    {
     "name": "stdout",
     "output_type": "stream",
     "text": [
      "Processing Record 1 of Set 1 | kamenka\n",
      "Processing Record 2 of Set 1 | kavaratti\n",
      "Processing Record 3 of Set 1 | hermanus\n",
      "Processing Record 4 of Set 1 | mareeba\n",
      "Processing Record 5 of Set 1 | busselton\n",
      "Processing Record 6 of Set 1 | richards bay\n",
      "Processing Record 7 of Set 1 | sao joao da barra\n",
      "Processing Record 8 of Set 1 | ushuaia\n",
      "Processing Record 9 of Set 1 | yellowknife\n",
      "Processing Record 10 of Set 1 | hasaki\n",
      "Processing Record 11 of Set 1 | qaanaaq\n",
      "Processing Record 12 of Set 1 | tarakan\n",
      "Processing Record 13 of Set 1 | lewistown\n",
      "City not found. Skipping...\n",
      "Processing Record 14 of Set 1 | mataura\n",
      "Processing Record 15 of Set 1 | jamestown\n",
      "Processing Record 16 of Set 1 | cukai\n",
      "Processing Record 17 of Set 1 | new norfolk\n",
      "Processing Record 18 of Set 1 | portland\n",
      "Processing Record 19 of Set 1 | aljezur\n",
      "Processing Record 20 of Set 1 | bandarbeyla\n",
      "Processing Record 21 of Set 1 | pozo colorado\n",
      "Processing Record 22 of Set 1 | srandakan\n",
      "City not found. Skipping...\n",
      "Processing Record 23 of Set 1 | banjar\n",
      "Processing Record 24 of Set 1 | yaan\n",
      "Processing Record 25 of Set 1 | upernavik\n",
      "Processing Record 26 of Set 1 | rikitea\n",
      "Processing Record 27 of Set 1 | alice springs\n",
      "Processing Record 28 of Set 1 | mys shmidta\n",
      "Processing Record 29 of Set 1 | troy\n",
      "Processing Record 30 of Set 1 | otradnoye\n",
      "Processing Record 31 of Set 1 | thompson\n",
      "City not found. Skipping...\n",
      "Processing Record 32 of Set 1 | rawson\n",
      "Processing Record 33 of Set 1 | priekule\n",
      "Processing Record 34 of Set 1 | mehamn\n",
      "Processing Record 35 of Set 1 | hobart\n",
      "City not found. Skipping...\n",
      "Processing Record 36 of Set 1 | pasan\n",
      "Processing Record 37 of Set 1 | vardo\n",
      "City not found. Skipping...\n",
      "Processing Record 38 of Set 1 | albany\n",
      "Processing Record 39 of Set 1 | chuy\n",
      "Processing Record 40 of Set 1 | pisco\n",
      "Processing Record 41 of Set 1 | vrangel\n",
      "Processing Record 42 of Set 1 | teguldet\n",
      "Processing Record 43 of Set 1 | castro\n",
      "Processing Record 44 of Set 1 | wuwei\n",
      "Processing Record 45 of Set 1 | arraial do cabo\n",
      "Processing Record 46 of Set 1 | port alfred\n",
      "Processing Record 47 of Set 1 | auki\n",
      "City not found. Skipping...\n",
      "Processing Record 48 of Set 1 | ibra\n",
      "Processing Record 49 of Set 1 | kabo\n",
      "Processing Record 1 of Set 2 | cape town\n",
      "Processing Record 2 of Set 2 | punta arenas\n",
      "Processing Record 3 of Set 2 | geraldton\n",
      "Processing Record 4 of Set 2 | rehoboth\n",
      "Processing Record 5 of Set 2 | sept-iles\n",
      "City not found. Skipping...\n",
      "Processing Record 6 of Set 2 | old shinyanga\n",
      "Processing Record 7 of Set 2 | carnarvon\n",
      "Processing Record 8 of Set 2 | moyale\n",
      "Processing Record 9 of Set 2 | sokolovo\n",
      "Processing Record 10 of Set 2 | port elizabeth\n",
      "Processing Record 11 of Set 2 | orotukan\n",
      "Processing Record 12 of Set 2 | olafsvik\n",
      "Processing Record 13 of Set 2 | pontes e lacerda\n",
      "Processing Record 14 of Set 2 | latung\n",
      "Processing Record 15 of Set 2 | nikolskoye\n",
      "Processing Record 16 of Set 2 | katobu\n",
      "Processing Record 17 of Set 2 | katsuura\n",
      "City not found. Skipping...\n",
      "Processing Record 18 of Set 2 | lorengau\n",
      "City not found. Skipping...\n",
      "Processing Record 19 of Set 2 | hammerfest\n",
      "City not found. Skipping...\n",
      "Processing Record 20 of Set 2 | vaini\n",
      "Processing Record 21 of Set 2 | dikson\n",
      "Processing Record 22 of Set 2 | pitea\n",
      "Processing Record 23 of Set 2 | butaritari\n",
      "Processing Record 24 of Set 2 | saint-michel-des-saints\n",
      "Processing Record 25 of Set 2 | lucapa\n",
      "Processing Record 26 of Set 2 | kjollefjord\n",
      "Processing Record 27 of Set 2 | goderich\n",
      "Processing Record 28 of Set 2 | dunedin\n",
      "City not found. Skipping...\n",
      "Processing Record 29 of Set 2 | micheweni\n",
      "Processing Record 30 of Set 2 | dudinka\n",
      "Processing Record 31 of Set 2 | victoria\n",
      "Processing Record 32 of Set 2 | straumen\n",
      "Processing Record 33 of Set 2 | dawei\n",
      "Processing Record 34 of Set 2 | lavrentiya\n",
      "Processing Record 35 of Set 2 | bethel\n",
      "Processing Record 36 of Set 2 | port-cartier\n",
      "Processing Record 37 of Set 2 | sao jose do egito\n",
      "Processing Record 38 of Set 2 | mar del plata\n",
      "Processing Record 39 of Set 2 | scarborough\n",
      "Processing Record 40 of Set 2 | olinda\n",
      "Processing Record 41 of Set 2 | nizwa\n",
      "City not found. Skipping...\n",
      "Processing Record 42 of Set 2 | ouesso\n",
      "Processing Record 43 of Set 2 | port blair\n",
      "Processing Record 44 of Set 2 | stephenville\n",
      "Processing Record 45 of Set 2 | coahuayana\n",
      "Processing Record 46 of Set 2 | saint-georges\n",
      "Processing Record 47 of Set 2 | georgetown\n",
      "Processing Record 48 of Set 2 | kigoma\n",
      "Processing Record 49 of Set 2 | bluff\n",
      "Processing Record 1 of Set 3 | povenets\n",
      "Processing Record 2 of Set 3 | manzanillo\n",
      "Processing Record 3 of Set 3 | sorland\n",
      "Processing Record 4 of Set 3 | viedma\n",
      "Processing Record 5 of Set 3 | makakilo city\n",
      "Processing Record 6 of Set 3 | cherskiy\n",
      "Processing Record 7 of Set 3 | brae\n",
      "Processing Record 8 of Set 3 | talnakh\n",
      "City not found. Skipping...\n",
      "City not found. Skipping...\n",
      "Processing Record 9 of Set 3 | kutum\n",
      "Processing Record 10 of Set 3 | saldanha\n",
      "Processing Record 11 of Set 3 | fairbanks\n",
      "City not found. Skipping...\n",
      "Processing Record 12 of Set 3 | podor\n",
      "Processing Record 13 of Set 3 | longyearbyen\n",
      "Processing Record 14 of Set 3 | lebu\n",
      "Processing Record 15 of Set 3 | agadir\n",
      "Processing Record 16 of Set 3 | tuktoyaktuk\n",
      "Processing Record 17 of Set 3 | pochutla\n",
      "Processing Record 18 of Set 3 | coswig\n",
      "Processing Record 19 of Set 3 | itapirapua\n",
      "Processing Record 20 of Set 3 | faanui\n",
      "Processing Record 21 of Set 3 | fort wayne\n",
      "Processing Record 22 of Set 3 | saskylakh\n",
      "Processing Record 23 of Set 3 | bengkulu\n",
      "Processing Record 24 of Set 3 | torbay\n",
      "Processing Record 25 of Set 3 | brufut\n",
      "Processing Record 26 of Set 3 | port lincoln\n",
      "Processing Record 27 of Set 3 | atuona\n",
      "City not found. Skipping...\n",
      "City not found. Skipping...\n",
      "Processing Record 28 of Set 3 | terrace\n",
      "Processing Record 29 of Set 3 | pacific grove\n",
      "Processing Record 30 of Set 3 | comodoro rivadavia\n",
      "Processing Record 31 of Set 3 | murray bridge\n",
      "Processing Record 32 of Set 3 | puerto ayora\n",
      "Processing Record 33 of Set 3 | bakchar\n",
      "Processing Record 34 of Set 3 | yumen\n",
      "Processing Record 35 of Set 3 | hithadhoo\n",
      "Processing Record 36 of Set 3 | ganzhou\n",
      "Processing Record 37 of Set 3 | hervey bay\n",
      "Processing Record 38 of Set 3 | mayo\n",
      "Processing Record 39 of Set 3 | lagos\n",
      "Processing Record 40 of Set 3 | barrow\n",
      "Processing Record 41 of Set 3 | tieli\n",
      "Processing Record 42 of Set 3 | severo-kurilsk\n",
      "Processing Record 43 of Set 3 | kapaa\n",
      "Processing Record 44 of Set 3 | codrington\n",
      "Processing Record 45 of Set 3 | sakakah\n",
      "Processing Record 46 of Set 3 | mahebourg\n",
      "Processing Record 47 of Set 3 | karagaylinskiy\n",
      "Processing Record 48 of Set 3 | namwala\n",
      "City not found. Skipping...\n",
      "Processing Record 49 of Set 3 | westport\n",
      "Processing Record 1 of Set 4 | bredasdorp\n",
      "Processing Record 2 of Set 4 | houma\n",
      "Processing Record 3 of Set 4 | tura\n",
      "Processing Record 4 of Set 4 | tasiilaq\n",
      "Processing Record 5 of Set 4 | vila franca do campo\n",
      "Processing Record 6 of Set 4 | tuatapere\n",
      "Processing Record 7 of Set 4 | kaitangata\n",
      "Processing Record 8 of Set 4 | korla\n",
      "Processing Record 9 of Set 4 | yei\n",
      "Processing Record 10 of Set 4 | palmer\n",
      "Processing Record 11 of Set 4 | cidreira\n",
      "City not found. Skipping...\n",
      "Processing Record 12 of Set 4 | san antonio\n",
      "Processing Record 13 of Set 4 | naze\n",
      "Processing Record 14 of Set 4 | cheremshanka\n",
      "Processing Record 15 of Set 4 | imbituba\n",
      "Processing Record 16 of Set 4 | nemuro\n",
      "Processing Record 17 of Set 4 | xique-xique\n",
      "Processing Record 18 of Set 4 | namatanai\n",
      "Processing Record 19 of Set 4 | segezha\n",
      "Processing Record 20 of Set 4 | poladpur\n",
      "Processing Record 21 of Set 4 | jilove u prahy\n",
      "Processing Record 22 of Set 4 | clyde river\n",
      "Processing Record 23 of Set 4 | esperance\n",
      "Processing Record 24 of Set 4 | leningradskiy\n",
      "Processing Record 25 of Set 4 | hilo\n",
      "Processing Record 26 of Set 4 | avarua\n",
      "City not found. Skipping...\n",
      "Processing Record 27 of Set 4 | kruisfontein\n",
      "Processing Record 28 of Set 4 | louis trichardt\n",
      "City not found. Skipping...\n",
      "Processing Record 29 of Set 4 | kieta\n",
      "Processing Record 30 of Set 4 | cabo san lucas\n",
      "Processing Record 31 of Set 4 | peterhead\n",
      "Processing Record 32 of Set 4 | melfort\n",
      "Processing Record 33 of Set 4 | juneau\n",
      "City not found. Skipping...\n",
      "Processing Record 34 of Set 4 | laguna\n",
      "Processing Record 35 of Set 4 | cam ranh\n",
      "Processing Record 36 of Set 4 | amazar\n",
      "Processing Record 37 of Set 4 | constitucion\n"
     ]
    },
    {
     "name": "stdout",
     "output_type": "stream",
     "text": [
      "Processing Record 38 of Set 4 | timmins\n",
      "Processing Record 39 of Set 4 | guamuchil\n",
      "City not found. Skipping...\n",
      "Processing Record 40 of Set 4 | bereda\n",
      "Processing Record 41 of Set 4 | chokurdakh\n",
      "Processing Record 42 of Set 4 | souillac\n",
      "Processing Record 43 of Set 4 | bubaque\n",
      "Processing Record 44 of Set 4 | coquimbo\n",
      "Processing Record 45 of Set 4 | wenatchee\n",
      "Processing Record 46 of Set 4 | shelburne\n",
      "City not found. Skipping...\n",
      "Processing Record 47 of Set 4 | fortuna\n",
      "Processing Record 48 of Set 4 | san rafael\n",
      "Processing Record 49 of Set 4 | vredendal\n",
      "Processing Record 1 of Set 5 | saint-francois\n",
      "Processing Record 2 of Set 5 | luderitz\n",
      "Processing Record 3 of Set 5 | hambantota\n",
      "City not found. Skipping...\n",
      "City not found. Skipping...\n",
      "Processing Record 4 of Set 5 | pangnirtung\n",
      "Processing Record 5 of Set 5 | guerrero negro\n",
      "Processing Record 6 of Set 5 | mount gambier\n",
      "Processing Record 7 of Set 5 | havoysund\n",
      "Processing Record 8 of Set 5 | trelew\n",
      "Processing Record 9 of Set 5 | san quintin\n",
      "Processing Record 10 of Set 5 | saint-philippe\n",
      "Processing Record 11 of Set 5 | provideniya\n",
      "Processing Record 12 of Set 5 | kupang\n",
      "Processing Record 13 of Set 5 | havelock\n",
      "Processing Record 14 of Set 5 | broome\n",
      "Processing Record 15 of Set 5 | lata\n",
      "Processing Record 16 of Set 5 | bambous virieux\n",
      "Processing Record 17 of Set 5 | kemijarvi\n",
      "Processing Record 18 of Set 5 | kuusamo\n",
      "Processing Record 19 of Set 5 | enshi\n",
      "Processing Record 20 of Set 5 | revelstoke\n",
      "Processing Record 21 of Set 5 | inirida\n",
      "Processing Record 22 of Set 5 | hofn\n",
      "Processing Record 23 of Set 5 | prince rupert\n",
      "Processing Record 24 of Set 5 | peno\n",
      "Processing Record 25 of Set 5 | kodinsk\n",
      "Processing Record 26 of Set 5 | utevka\n",
      "Processing Record 27 of Set 5 | yar-sale\n",
      "Processing Record 28 of Set 5 | amiens\n",
      "Processing Record 29 of Set 5 | cockburn town\n",
      "Processing Record 30 of Set 5 | komsomolskiy\n",
      "Processing Record 31 of Set 5 | airai\n",
      "City not found. Skipping...\n",
      "Processing Record 32 of Set 5 | port keats\n",
      "Processing Record 33 of Set 5 | araouane\n",
      "City not found. Skipping...\n",
      "Processing Record 34 of Set 5 | palafrugell\n",
      "Processing Record 35 of Set 5 | samarai\n",
      "Processing Record 36 of Set 5 | katangli\n",
      "Processing Record 37 of Set 5 | ribeira grande\n",
      "Processing Record 38 of Set 5 | leshan\n",
      "Processing Record 39 of Set 5 | nioro\n",
      "Processing Record 40 of Set 5 | nishihara\n",
      "City not found. Skipping...\n",
      "Processing Record 41 of Set 5 | mount isa\n",
      "Processing Record 42 of Set 5 | lompoc\n",
      "Processing Record 43 of Set 5 | nome\n",
      "Processing Record 44 of Set 5 | ahipara\n",
      "Processing Record 45 of Set 5 | bathsheba\n",
      "Processing Record 46 of Set 5 | godda\n",
      "Processing Record 47 of Set 5 | belmonte\n",
      "Processing Record 48 of Set 5 | arman\n",
      "Processing Record 49 of Set 5 | beloha\n",
      "Processing Record 1 of Set 6 | vestmannaeyjar\n",
      "Processing Record 2 of Set 6 | baker city\n",
      "Processing Record 3 of Set 6 | mangrol\n",
      "Processing Record 4 of Set 6 | necochea\n",
      "Processing Record 5 of Set 6 | kloulklubed\n",
      "Processing Record 6 of Set 6 | seguin\n",
      "Processing Record 7 of Set 6 | sitka\n",
      "Processing Record 8 of Set 6 | pierre\n",
      "Processing Record 9 of Set 6 | noyabrsk\n",
      "Processing Record 10 of Set 6 | altay\n",
      "Processing Record 11 of Set 6 | novobirilyussy\n",
      "City not found. Skipping...\n",
      "Processing Record 12 of Set 6 | iqaluit\n",
      "Processing Record 13 of Set 6 | ayr\n",
      "Processing Record 14 of Set 6 | taltal\n",
      "Processing Record 15 of Set 6 | eyl\n",
      "City not found. Skipping...\n",
      "Processing Record 16 of Set 6 | baiyin\n",
      "Processing Record 17 of Set 6 | udachnyy\n",
      "Processing Record 18 of Set 6 | murgab\n",
      "Processing Record 19 of Set 6 | fremont\n",
      "City not found. Skipping...\n",
      "Processing Record 20 of Set 6 | bisignano\n",
      "City not found. Skipping...\n",
      "Processing Record 21 of Set 6 | tlacotalpan\n",
      "Processing Record 22 of Set 6 | itoman\n",
      "City not found. Skipping...\n",
      "Processing Record 23 of Set 6 | nanortalik\n",
      "Processing Record 24 of Set 6 | lensk\n",
      "Processing Record 25 of Set 6 | navalmoral de la mata\n",
      "Processing Record 26 of Set 6 | sarankhola\n",
      "Processing Record 27 of Set 6 | bradford\n",
      "City not found. Skipping...\n",
      "Processing Record 28 of Set 6 | sapulpa\n",
      "Processing Record 29 of Set 6 | norman wells\n",
      "Processing Record 30 of Set 6 | athabasca\n",
      "Processing Record 31 of Set 6 | mendi\n",
      "City not found. Skipping...\n",
      "Processing Record 32 of Set 6 | boyolangu\n",
      "Processing Record 33 of Set 6 | ancud\n",
      "City not found. Skipping...\n",
      "City not found. Skipping...\n",
      "Processing Record 34 of Set 6 | stornoway\n",
      "Processing Record 35 of Set 6 | gat\n",
      "City not found. Skipping...\n",
      "Processing Record 36 of Set 6 | harrison\n",
      "Processing Record 37 of Set 6 | grand river south east\n",
      "Processing Record 38 of Set 6 | mound\n",
      "City not found. Skipping...\n",
      "Processing Record 39 of Set 6 | villa carlos paz\n",
      "Processing Record 40 of Set 6 | madaoua\n",
      "City not found. Skipping...\n",
      "Processing Record 41 of Set 6 | kismayo\n",
      "Processing Record 42 of Set 6 | alofi\n",
      "Processing Record 43 of Set 6 | ketchikan\n",
      "Processing Record 44 of Set 6 | muros\n",
      "Processing Record 45 of Set 6 | paracuru\n",
      "Processing Record 46 of Set 6 | pryazha\n",
      "Processing Record 47 of Set 6 | bonfim\n",
      "Processing Record 48 of Set 6 | tecpan\n",
      "Processing Record 49 of Set 6 | khatanga\n",
      "Processing Record 1 of Set 7 | vitim\n",
      "Processing Record 2 of Set 7 | markova\n",
      "Processing Record 3 of Set 7 | chicama\n",
      "Processing Record 4 of Set 7 | alamos\n",
      "Processing Record 5 of Set 7 | ilebo\n",
      "Processing Record 6 of Set 7 | asau\n",
      "Processing Record 7 of Set 7 | maniitsoq\n",
      "Processing Record 8 of Set 7 | jiwani\n",
      "City not found. Skipping...\n",
      "City not found. Skipping...\n",
      "Processing Record 9 of Set 7 | allapalli\n",
      "Processing Record 10 of Set 7 | paita\n",
      "Processing Record 11 of Set 7 | bilibino\n",
      "Processing Record 12 of Set 7 | marystown\n",
      "Processing Record 13 of Set 7 | ust-tsilma\n",
      "Processing Record 14 of Set 7 | honningsvag\n",
      "City not found. Skipping...\n",
      "Processing Record 15 of Set 7 | lincoln\n",
      "Processing Record 16 of Set 7 | peace river\n",
      "Processing Record 17 of Set 7 | muyezerskiy\n",
      "Processing Record 18 of Set 7 | massakory\n",
      "Processing Record 19 of Set 7 | magaria\n",
      "Processing Record 20 of Set 7 | namibe\n",
      "Processing Record 21 of Set 7 | vila velha\n",
      "Processing Record 22 of Set 7 | ust-kut\n",
      "Processing Record 23 of Set 7 | hamilton\n",
      "Processing Record 24 of Set 7 | shache\n",
      "Processing Record 25 of Set 7 | santa ana\n",
      "Processing Record 26 of Set 7 | martil\n",
      "Processing Record 27 of Set 7 | beringovskiy\n",
      "Processing Record 28 of Set 7 | tiksi\n",
      "Processing Record 29 of Set 7 | piacabucu\n",
      "Processing Record 30 of Set 7 | wanning\n",
      "Processing Record 31 of Set 7 | ankang\n",
      "Processing Record 32 of Set 7 | aklavik\n",
      "Processing Record 33 of Set 7 | sibolga\n",
      "Processing Record 34 of Set 7 | yerbogachen\n",
      "Processing Record 35 of Set 7 | saint-joseph\n",
      "Processing Record 36 of Set 7 | pedasi\n",
      "Processing Record 37 of Set 7 | lagoa\n",
      "Processing Record 38 of Set 7 | yola\n",
      "Processing Record 39 of Set 7 | alberton\n",
      "Processing Record 40 of Set 7 | qaqortoq\n",
      "Processing Record 41 of Set 7 | nanchong\n",
      "Processing Record 42 of Set 7 | carberry\n",
      "Processing Record 43 of Set 7 | ilulissat\n",
      "City not found. Skipping...\n",
      "Processing Record 44 of Set 7 | ati\n",
      "Processing Record 45 of Set 7 | ponta do sol\n",
      "Processing Record 46 of Set 7 | cayenne\n",
      "Processing Record 47 of Set 7 | fort nelson\n",
      "Processing Record 48 of Set 7 | roura\n",
      "Processing Record 49 of Set 7 | eregli\n",
      "Processing Record 1 of Set 8 | sambava\n",
      "Processing Record 2 of Set 8 | boa vista\n",
      "Processing Record 3 of Set 8 | meulaboh\n",
      "Processing Record 4 of Set 8 | bako\n",
      "Processing Record 5 of Set 8 | nyandoma\n",
      "Processing Record 6 of Set 8 | bilma\n",
      "Processing Record 7 of Set 8 | porto walter\n",
      "Processing Record 8 of Set 8 | vestmanna\n",
      "Processing Record 9 of Set 8 | zhigansk\n",
      "Processing Record 10 of Set 8 | inta\n",
      "Processing Record 11 of Set 8 | vao\n",
      "Processing Record 12 of Set 8 | krasnoselkup\n",
      "Processing Record 13 of Set 8 | flinders\n",
      "Processing Record 14 of Set 8 | elizabeth city\n",
      "Processing Record 15 of Set 8 | zaragoza\n",
      "Processing Record 16 of Set 8 | san jose\n",
      "Processing Record 17 of Set 8 | mantua\n",
      "Processing Record 18 of Set 8 | japura\n",
      "Processing Record 19 of Set 8 | formoso do araguaia\n",
      "Processing Record 20 of Set 8 | tessalit\n",
      "Processing Record 21 of Set 8 | caucaia\n",
      "Processing Record 22 of Set 8 | fenoarivo atsinanana\n",
      "Processing Record 23 of Set 8 | kosa\n",
      "Processing Record 24 of Set 8 | huilong\n",
      "City not found. Skipping...\n",
      "Processing Record 25 of Set 8 | takoradi\n"
     ]
    },
    {
     "name": "stdout",
     "output_type": "stream",
     "text": [
      "Processing Record 26 of Set 8 | avera\n",
      "Processing Record 27 of Set 8 | bosaso\n",
      "Processing Record 28 of Set 8 | chabahar\n",
      "Processing Record 29 of Set 8 | sakhipur\n",
      "Processing Record 30 of Set 8 | mora\n",
      "Processing Record 31 of Set 8 | whitehorse\n",
      "Processing Record 32 of Set 8 | rubio\n",
      "Processing Record 33 of Set 8 | ostrovnoy\n",
      "Processing Record 34 of Set 8 | langenburg\n",
      "Processing Record 35 of Set 8 | mianyang\n",
      "Processing Record 36 of Set 8 | babynino\n",
      "City not found. Skipping...\n",
      "Processing Record 37 of Set 8 | ranong\n",
      "Processing Record 38 of Set 8 | pedernales\n",
      "Processing Record 39 of Set 8 | saint-augustin\n",
      "Processing Record 40 of Set 8 | isangel\n",
      "Processing Record 41 of Set 8 | yantzaza\n",
      "Processing Record 42 of Set 8 | nuuk\n",
      "Processing Record 43 of Set 8 | victoria point\n",
      "Processing Record 44 of Set 8 | husavik\n",
      "Processing Record 45 of Set 8 | impfondo\n",
      "Processing Record 46 of Set 8 | port hedland\n",
      "Processing Record 47 of Set 8 | luanda\n",
      "Processing Record 48 of Set 8 | kodiak\n",
      "Processing Record 49 of Set 8 | yasenskaya\n",
      "Processing Record 1 of Set 9 | mandali\n",
      "Processing Record 2 of Set 9 | klyuchi\n",
      "Processing Record 3 of Set 9 | sioux lookout\n",
      "Processing Record 4 of Set 9 | weligama\n",
      "Processing Record 5 of Set 9 | ayorou\n",
      "Processing Record 6 of Set 9 | yeppoon\n",
      "Processing Record 7 of Set 9 | sao filipe\n",
      "Processing Record 8 of Set 9 | pevek\n",
      "Processing Record 9 of Set 9 | grenada\n",
      "Processing Record 10 of Set 9 | weston\n",
      "City not found. Skipping...\n",
      "Processing Record 11 of Set 9 | naryan-mar\n",
      "Processing Record 12 of Set 9 | kununurra\n",
      "Processing Record 13 of Set 9 | ixtapa\n",
      "City not found. Skipping...\n",
      "Processing Record 14 of Set 9 | hualmay\n",
      "Processing Record 15 of Set 9 | lingao\n",
      "Processing Record 16 of Set 9 | kalas\n",
      "Processing Record 17 of Set 9 | sola\n",
      "Processing Record 18 of Set 9 | mlowo\n",
      "Processing Record 19 of Set 9 | skibbereen\n",
      "Processing Record 20 of Set 9 | zaysan\n",
      "Processing Record 21 of Set 9 | mana\n",
      "Processing Record 22 of Set 9 | sinnamary\n",
      "Processing Record 23 of Set 9 | pimentel\n",
      "Processing Record 24 of Set 9 | carutapera\n",
      "Processing Record 25 of Set 9 | aquiraz\n",
      "Processing Record 26 of Set 9 | katherine\n",
      "Processing Record 27 of Set 9 | barra do garcas\n",
      "Processing Record 28 of Set 9 | sabha\n",
      "Processing Record 29 of Set 9 | fuzhou\n",
      "City not found. Skipping...\n",
      "Processing Record 30 of Set 9 | tumen\n",
      "Processing Record 31 of Set 9 | praia\n",
      "Processing Record 32 of Set 9 | kumanovo\n",
      "Processing Record 33 of Set 9 | imeni poliny osipenko\n",
      "Processing Record 34 of Set 9 | tabalosos\n",
      "Processing Record 35 of Set 9 | kitgum\n",
      "Processing Record 36 of Set 9 | ambilobe\n",
      "Processing Record 37 of Set 9 | tokat\n",
      "Processing Record 38 of Set 9 | padang\n",
      "Processing Record 39 of Set 9 | leon\n",
      "Processing Record 40 of Set 9 | helmond\n",
      "Processing Record 41 of Set 9 | talcahuano\n",
      "Processing Record 42 of Set 9 | radcliff\n",
      "Processing Record 43 of Set 9 | sao felix do xingu\n",
      "Processing Record 44 of Set 9 | solton\n",
      "Processing Record 45 of Set 9 | caravelas\n",
      "Processing Record 46 of Set 9 | rocha\n",
      "Processing Record 47 of Set 9 | ailigandi\n",
      "Processing Record 48 of Set 9 | liverpool\n",
      "Processing Record 49 of Set 9 | wairoa\n",
      "Processing Record 1 of Set 10 | zirandaro\n",
      "Processing Record 2 of Set 10 | port-gentil\n",
      "Processing Record 3 of Set 10 | plavinas\n",
      "Processing Record 4 of Set 10 | tanda\n",
      "Processing Record 5 of Set 10 | srednekolymsk\n",
      "Processing Record 6 of Set 10 | windhoek\n",
      "Processing Record 7 of Set 10 | kuching\n",
      "Processing Record 8 of Set 10 | bindki\n",
      "Processing Record 9 of Set 10 | innisfail\n",
      "Processing Record 10 of Set 10 | chuzhou\n",
      "Processing Record 11 of Set 10 | kinkala\n",
      "Processing Record 12 of Set 10 | sao sebastiao\n",
      "Processing Record 13 of Set 10 | qui nhon\n",
      "Processing Record 14 of Set 10 | tanggu\n",
      "City not found. Skipping...\n",
      "City not found. Skipping...\n",
      "Processing Record 15 of Set 10 | ovsyanka\n",
      "Processing Record 16 of Set 10 | mahibadhoo\n",
      "Processing Record 17 of Set 10 | cap malheureux\n",
      "City not found. Skipping...\n",
      "Processing Record 18 of Set 10 | smithers\n",
      "Processing Record 19 of Set 10 | rawah\n",
      "City not found. Skipping...\n",
      "City not found. Skipping...\n",
      "City not found. Skipping...\n",
      "Processing Record 20 of Set 10 | abu jubayhah\n",
      "City not found. Skipping...\n",
      "Processing Record 21 of Set 10 | vohibinany\n",
      "Processing Record 22 of Set 10 | paamiut\n",
      "Processing Record 23 of Set 10 | zhuhai\n",
      "Processing Record 24 of Set 10 | lonavale\n",
      "Processing Record 25 of Set 10 | mayachnyy\n",
      "Processing Record 26 of Set 10 | atar\n",
      "City not found. Skipping...\n",
      "Processing Record 27 of Set 10 | chapais\n",
      "Processing Record 28 of Set 10 | santa cruz\n",
      "Processing Record 29 of Set 10 | hami\n",
      "Processing Record 30 of Set 10 | khakhea\n",
      "Processing Record 31 of Set 10 | hovd\n",
      "Processing Record 32 of Set 10 | vostok\n",
      "Processing Record 33 of Set 10 | winnemucca\n",
      "Processing Record 34 of Set 10 | svetlogorsk\n",
      "City not found. Skipping...\n",
      "Processing Record 35 of Set 10 | senneterre\n",
      "Processing Record 36 of Set 10 | kahului\n",
      "Processing Record 37 of Set 10 | ucluelet\n",
      "Processing Record 38 of Set 10 | kindu\n",
      "Processing Record 39 of Set 10 | kirakira\n",
      "Processing Record 40 of Set 10 | alangayam\n",
      "Processing Record 41 of Set 10 | xiaoshan\n",
      "Processing Record 42 of Set 10 | capinota\n",
      "Processing Record 43 of Set 10 | ndele\n",
      "Processing Record 44 of Set 10 | lockhart\n",
      "Processing Record 45 of Set 10 | nara\n",
      "Processing Record 46 of Set 10 | helong\n",
      "Processing Record 47 of Set 10 | east london\n",
      "Processing Record 48 of Set 10 | beidao\n",
      "Processing Record 49 of Set 10 | kochki\n",
      "Processing Record 1 of Set 11 | saint-pierre\n",
      "Processing Record 2 of Set 11 | nalut\n",
      "Processing Record 3 of Set 11 | huarmey\n",
      "Processing Record 4 of Set 11 | oistins\n",
      "Processing Record 5 of Set 11 | yarada\n",
      "Processing Record 6 of Set 11 | pulaski\n",
      "City not found. Skipping...\n",
      "Processing Record 7 of Set 11 | zhaoyang\n",
      "Processing Record 8 of Set 11 | oda\n",
      "Processing Record 9 of Set 11 | panguna\n",
      "Processing Record 10 of Set 11 | mutoko\n",
      "City not found. Skipping...\n",
      "Processing Record 11 of Set 11 | peleduy\n",
      "Processing Record 12 of Set 11 | kibala\n",
      "Processing Record 13 of Set 11 | durango\n",
      "Processing Record 14 of Set 11 | tekeli\n",
      "City not found. Skipping...\n",
      "Processing Record 15 of Set 11 | lannion\n",
      "Processing Record 16 of Set 11 | xinpu\n",
      "Processing Record 17 of Set 11 | kitimat\n",
      "Processing Record 18 of Set 11 | pechenga\n",
      "Processing Record 19 of Set 11 | san cristobal\n",
      "Processing Record 20 of Set 11 | mbandaka\n",
      "City not found. Skipping...\n",
      "Processing Record 21 of Set 11 | narsaq\n",
      "Processing Record 22 of Set 11 | kuryk\n",
      "Processing Record 23 of Set 11 | slonim\n",
      "Processing Record 24 of Set 11 | nicoya\n",
      "Processing Record 25 of Set 11 | phan thiet\n",
      "Processing Record 26 of Set 11 | kongolo\n",
      "Processing Record 27 of Set 11 | axim\n",
      "City not found. Skipping...\n",
      "Processing Record 28 of Set 11 | kirkwall\n",
      "Processing Record 29 of Set 11 | aragarcas\n",
      "Processing Record 30 of Set 11 | abu samrah\n",
      "Processing Record 31 of Set 11 | daru\n",
      "Processing Record 32 of Set 11 | satipo\n",
      "Processing Record 33 of Set 11 | biak\n",
      "Processing Record 34 of Set 11 | long beach\n",
      "Processing Record 35 of Set 11 | ajjampur\n",
      "Processing Record 36 of Set 11 | rjukan\n",
      "Processing Record 37 of Set 11 | yulara\n",
      "City not found. Skipping...\n",
      "Processing Record 38 of Set 11 | villacarrillo\n",
      "Processing Record 39 of Set 11 | inuvik\n",
      "Processing Record 40 of Set 11 | klaksvik\n",
      "Processing Record 41 of Set 11 | half moon bay\n",
      "Processing Record 42 of Set 11 | nouadhibou\n",
      "Processing Record 43 of Set 11 | ormara\n",
      "Processing Record 44 of Set 11 | udgir\n",
      "City not found. Skipping...\n",
      "City not found. Skipping...\n",
      "Processing Record 45 of Set 11 | singaraja\n",
      "Processing Record 46 of Set 11 | kargasok\n",
      "Processing Record 47 of Set 11 | kerema\n",
      "Processing Record 48 of Set 11 | yaransk\n",
      "Processing Record 49 of Set 11 | kemin\n",
      "Processing Record 1 of Set 12 | taoudenni\n",
      "City not found. Skipping...\n",
      "City not found. Skipping...\n",
      "Processing Record 2 of Set 12 | zhangye\n",
      "Processing Record 3 of Set 12 | dongsheng\n",
      "Processing Record 4 of Set 12 | ponta delgada\n",
      "Processing Record 5 of Set 12 | ngama\n",
      "Processing Record 6 of Set 12 | yertsevo\n",
      "Processing Record 7 of Set 12 | erzin\n",
      "City not found. Skipping...\n",
      "Processing Record 8 of Set 12 | mahuva\n",
      "Processing Record 9 of Set 12 | anadyr\n",
      "Processing Record 10 of Set 12 | vagay\n",
      "Processing Record 11 of Set 12 | kalabo\n",
      "Processing Record 12 of Set 12 | novi sanzhary\n",
      "Processing Record 13 of Set 12 | dwarka\n"
     ]
    },
    {
     "name": "stdout",
     "output_type": "stream",
     "text": [
      "Processing Record 14 of Set 12 | lundazi\n",
      "Processing Record 15 of Set 12 | pudozh\n",
      "Processing Record 16 of Set 12 | labuhan\n",
      "City not found. Skipping...\n",
      "Processing Record 17 of Set 12 | ginda\n",
      "Processing Record 18 of Set 12 | mehran\n",
      "Processing Record 19 of Set 12 | dromolaxia\n",
      "Processing Record 20 of Set 12 | dohrighat\n",
      "------------------------------\n",
      "Data Retrieval Complete\n",
      "------------------------------\n"
     ]
    }
   ],
   "source": [
    "city_two = []\n",
    "cloudiness = []\n",
    "dates = []\n",
    "humidity = []\n",
    "lat = []\n",
    "lng = []\n",
    "max_temp = []\n",
    "wind_speed = []\n",
    "country = []\n",
    "\n",
    "count_one = 0\n",
    "set_one = 1\n",
    "\n",
    "for city in cities:\n",
    "    try:\n",
    "        response = requests.get(query_url + city.replace(\" \",\"&\")).json()\n",
    "        cloudiness.append(response['clouds']['all'])\n",
    "        country.append(response['sys']['country'])\n",
    "        dates.append(response['dt'])\n",
    "        humidity.append(response['main']['humidity'])\n",
    "        lat.append(response['coord']['lat'])\n",
    "        lng.append(response['coord']['lon'])\n",
    "        max_temp.append(response['main']['temp_max'])\n",
    "        wind_speed.append(response['wind']['speed'])\n",
    "        if count_one > 48:\n",
    "            count_one = 1\n",
    "            set_one += 1\n",
    "            city_two.append(city)\n",
    "        else:\n",
    "            count_one += 1\n",
    "            city_two.append(city)\n",
    "        print(f\"Processing Record {count_one} of Set {set_one} | {city}\")\n",
    "    except Exception:\n",
    "        print(\"City not found. Skipping...\")\n",
    "print(\"------------------------------\\nData Retrieval Complete\\n------------------------------\")"
   ]
  },
  {
   "cell_type": "markdown",
   "metadata": {},
   "source": [
    "### Convert Raw Data to DataFrame\n",
    "* Export the city data into a .csv.\n",
    "* Display the DataFrame"
   ]
  },
  {
   "cell_type": "code",
   "execution_count": 9,
   "metadata": {},
   "outputs": [],
   "source": [
    "weather_dict = {\n",
    "    \"City\": city_two,\n",
    "    \"Cloudiness\": cloudiness,\n",
    "    \"County\": country,\n",
    "    \"Date\": dates,\n",
    "    \"Humidity\": humidity,\n",
    "    \"Lat\": lat,\n",
    "    \"Lng\": lng,\n",
    "    \"Max Temp\": max_temp,\n",
    "    \"Wind Speed\": wind_speed\n",
    "}"
   ]
  },
  {
   "cell_type": "code",
   "execution_count": 10,
   "metadata": {},
   "outputs": [
    {
     "data": {
      "text/html": [
       "<div>\n",
       "<style scoped>\n",
       "    .dataframe tbody tr th:only-of-type {\n",
       "        vertical-align: middle;\n",
       "    }\n",
       "\n",
       "    .dataframe tbody tr th {\n",
       "        vertical-align: top;\n",
       "    }\n",
       "\n",
       "    .dataframe thead th {\n",
       "        text-align: right;\n",
       "    }\n",
       "</style>\n",
       "<table border=\"1\" class=\"dataframe\">\n",
       "  <thead>\n",
       "    <tr style=\"text-align: right;\">\n",
       "      <th></th>\n",
       "      <th>City</th>\n",
       "      <th>Cloudiness</th>\n",
       "      <th>County</th>\n",
       "      <th>Date</th>\n",
       "      <th>Humidity</th>\n",
       "      <th>Lat</th>\n",
       "      <th>Lng</th>\n",
       "      <th>Max Temp</th>\n",
       "      <th>Wind Speed</th>\n",
       "    </tr>\n",
       "  </thead>\n",
       "  <tbody>\n",
       "    <tr>\n",
       "      <th>0</th>\n",
       "      <td>kamenka</td>\n",
       "      <td>88</td>\n",
       "      <td>RU</td>\n",
       "      <td>1586961939</td>\n",
       "      <td>75</td>\n",
       "      <td>51.32</td>\n",
       "      <td>42.77</td>\n",
       "      <td>41.00</td>\n",
       "      <td>10.00</td>\n",
       "    </tr>\n",
       "    <tr>\n",
       "      <th>1</th>\n",
       "      <td>kavaratti</td>\n",
       "      <td>7</td>\n",
       "      <td>IN</td>\n",
       "      <td>1586961940</td>\n",
       "      <td>70</td>\n",
       "      <td>10.57</td>\n",
       "      <td>72.64</td>\n",
       "      <td>85.24</td>\n",
       "      <td>7.02</td>\n",
       "    </tr>\n",
       "    <tr>\n",
       "      <th>2</th>\n",
       "      <td>hermanus</td>\n",
       "      <td>100</td>\n",
       "      <td>ZA</td>\n",
       "      <td>1586961941</td>\n",
       "      <td>77</td>\n",
       "      <td>-34.42</td>\n",
       "      <td>19.23</td>\n",
       "      <td>66.00</td>\n",
       "      <td>5.86</td>\n",
       "    </tr>\n",
       "    <tr>\n",
       "      <th>3</th>\n",
       "      <td>mareeba</td>\n",
       "      <td>75</td>\n",
       "      <td>AU</td>\n",
       "      <td>1586961941</td>\n",
       "      <td>83</td>\n",
       "      <td>-17.00</td>\n",
       "      <td>145.43</td>\n",
       "      <td>77.00</td>\n",
       "      <td>10.29</td>\n",
       "    </tr>\n",
       "    <tr>\n",
       "      <th>4</th>\n",
       "      <td>busselton</td>\n",
       "      <td>32</td>\n",
       "      <td>AU</td>\n",
       "      <td>1586961941</td>\n",
       "      <td>55</td>\n",
       "      <td>-33.65</td>\n",
       "      <td>115.33</td>\n",
       "      <td>55.00</td>\n",
       "      <td>6.91</td>\n",
       "    </tr>\n",
       "    <tr>\n",
       "      <th>5</th>\n",
       "      <td>richards bay</td>\n",
       "      <td>40</td>\n",
       "      <td>US</td>\n",
       "      <td>1586961942</td>\n",
       "      <td>79</td>\n",
       "      <td>46.84</td>\n",
       "      <td>-95.91</td>\n",
       "      <td>28.99</td>\n",
       "      <td>9.17</td>\n",
       "    </tr>\n",
       "    <tr>\n",
       "      <th>6</th>\n",
       "      <td>sao joao da barra</td>\n",
       "      <td>60</td>\n",
       "      <td>IN</td>\n",
       "      <td>1586961942</td>\n",
       "      <td>10</td>\n",
       "      <td>20.51</td>\n",
       "      <td>76.21</td>\n",
       "      <td>94.01</td>\n",
       "      <td>3.51</td>\n",
       "    </tr>\n",
       "    <tr>\n",
       "      <th>7</th>\n",
       "      <td>ushuaia</td>\n",
       "      <td>40</td>\n",
       "      <td>AR</td>\n",
       "      <td>1586961942</td>\n",
       "      <td>81</td>\n",
       "      <td>-54.80</td>\n",
       "      <td>-68.30</td>\n",
       "      <td>44.60</td>\n",
       "      <td>5.55</td>\n",
       "    </tr>\n",
       "    <tr>\n",
       "      <th>8</th>\n",
       "      <td>yellowknife</td>\n",
       "      <td>40</td>\n",
       "      <td>CA</td>\n",
       "      <td>1586961593</td>\n",
       "      <td>84</td>\n",
       "      <td>62.46</td>\n",
       "      <td>-114.35</td>\n",
       "      <td>19.99</td>\n",
       "      <td>3.36</td>\n",
       "    </tr>\n",
       "    <tr>\n",
       "      <th>9</th>\n",
       "      <td>hasaki</td>\n",
       "      <td>75</td>\n",
       "      <td>JP</td>\n",
       "      <td>1586961942</td>\n",
       "      <td>87</td>\n",
       "      <td>35.73</td>\n",
       "      <td>140.83</td>\n",
       "      <td>50.00</td>\n",
       "      <td>2.24</td>\n",
       "    </tr>\n",
       "    <tr>\n",
       "      <th>10</th>\n",
       "      <td>qaanaaq</td>\n",
       "      <td>94</td>\n",
       "      <td>GL</td>\n",
       "      <td>1586961942</td>\n",
       "      <td>89</td>\n",
       "      <td>77.48</td>\n",
       "      <td>-69.36</td>\n",
       "      <td>12.22</td>\n",
       "      <td>1.32</td>\n",
       "    </tr>\n",
       "    <tr>\n",
       "      <th>11</th>\n",
       "      <td>tarakan</td>\n",
       "      <td>84</td>\n",
       "      <td>ID</td>\n",
       "      <td>1586961943</td>\n",
       "      <td>71</td>\n",
       "      <td>3.30</td>\n",
       "      <td>117.63</td>\n",
       "      <td>81.84</td>\n",
       "      <td>8.97</td>\n",
       "    </tr>\n",
       "    <tr>\n",
       "      <th>12</th>\n",
       "      <td>lewistown</td>\n",
       "      <td>40</td>\n",
       "      <td>US</td>\n",
       "      <td>1586961943</td>\n",
       "      <td>44</td>\n",
       "      <td>40.60</td>\n",
       "      <td>-77.57</td>\n",
       "      <td>44.01</td>\n",
       "      <td>6.93</td>\n",
       "    </tr>\n",
       "    <tr>\n",
       "      <th>13</th>\n",
       "      <td>mataura</td>\n",
       "      <td>69</td>\n",
       "      <td>NZ</td>\n",
       "      <td>1586961943</td>\n",
       "      <td>90</td>\n",
       "      <td>-46.19</td>\n",
       "      <td>168.86</td>\n",
       "      <td>50.00</td>\n",
       "      <td>11.99</td>\n",
       "    </tr>\n",
       "    <tr>\n",
       "      <th>14</th>\n",
       "      <td>jamestown</td>\n",
       "      <td>75</td>\n",
       "      <td>US</td>\n",
       "      <td>1586961913</td>\n",
       "      <td>61</td>\n",
       "      <td>42.10</td>\n",
       "      <td>-79.24</td>\n",
       "      <td>36.00</td>\n",
       "      <td>12.75</td>\n",
       "    </tr>\n",
       "    <tr>\n",
       "      <th>15</th>\n",
       "      <td>cukai</td>\n",
       "      <td>7</td>\n",
       "      <td>MY</td>\n",
       "      <td>1586961659</td>\n",
       "      <td>94</td>\n",
       "      <td>4.25</td>\n",
       "      <td>103.42</td>\n",
       "      <td>80.60</td>\n",
       "      <td>6.76</td>\n",
       "    </tr>\n",
       "    <tr>\n",
       "      <th>16</th>\n",
       "      <td>new norfolk</td>\n",
       "      <td>75</td>\n",
       "      <td>LR</td>\n",
       "      <td>1586961910</td>\n",
       "      <td>66</td>\n",
       "      <td>6.65</td>\n",
       "      <td>-10.59</td>\n",
       "      <td>89.60</td>\n",
       "      <td>6.93</td>\n",
       "    </tr>\n",
       "    <tr>\n",
       "      <th>17</th>\n",
       "      <td>portland</td>\n",
       "      <td>90</td>\n",
       "      <td>US</td>\n",
       "      <td>1586961845</td>\n",
       "      <td>87</td>\n",
       "      <td>45.52</td>\n",
       "      <td>-122.68</td>\n",
       "      <td>50.00</td>\n",
       "      <td>6.93</td>\n",
       "    </tr>\n",
       "    <tr>\n",
       "      <th>18</th>\n",
       "      <td>aljezur</td>\n",
       "      <td>13</td>\n",
       "      <td>PT</td>\n",
       "      <td>1586961945</td>\n",
       "      <td>70</td>\n",
       "      <td>37.32</td>\n",
       "      <td>-8.80</td>\n",
       "      <td>64.00</td>\n",
       "      <td>16.40</td>\n",
       "    </tr>\n",
       "    <tr>\n",
       "      <th>19</th>\n",
       "      <td>bandarbeyla</td>\n",
       "      <td>8</td>\n",
       "      <td>SO</td>\n",
       "      <td>1586961945</td>\n",
       "      <td>69</td>\n",
       "      <td>9.49</td>\n",
       "      <td>50.81</td>\n",
       "      <td>83.84</td>\n",
       "      <td>12.59</td>\n",
       "    </tr>\n",
       "  </tbody>\n",
       "</table>\n",
       "</div>"
      ],
      "text/plain": [
       "                 City  Cloudiness County        Date  Humidity    Lat     Lng  \\\n",
       "0             kamenka          88     RU  1586961939        75  51.32   42.77   \n",
       "1           kavaratti           7     IN  1586961940        70  10.57   72.64   \n",
       "2            hermanus         100     ZA  1586961941        77 -34.42   19.23   \n",
       "3             mareeba          75     AU  1586961941        83 -17.00  145.43   \n",
       "4           busselton          32     AU  1586961941        55 -33.65  115.33   \n",
       "5        richards bay          40     US  1586961942        79  46.84  -95.91   \n",
       "6   sao joao da barra          60     IN  1586961942        10  20.51   76.21   \n",
       "7             ushuaia          40     AR  1586961942        81 -54.80  -68.30   \n",
       "8         yellowknife          40     CA  1586961593        84  62.46 -114.35   \n",
       "9              hasaki          75     JP  1586961942        87  35.73  140.83   \n",
       "10            qaanaaq          94     GL  1586961942        89  77.48  -69.36   \n",
       "11            tarakan          84     ID  1586961943        71   3.30  117.63   \n",
       "12          lewistown          40     US  1586961943        44  40.60  -77.57   \n",
       "13            mataura          69     NZ  1586961943        90 -46.19  168.86   \n",
       "14          jamestown          75     US  1586961913        61  42.10  -79.24   \n",
       "15              cukai           7     MY  1586961659        94   4.25  103.42   \n",
       "16        new norfolk          75     LR  1586961910        66   6.65  -10.59   \n",
       "17           portland          90     US  1586961845        87  45.52 -122.68   \n",
       "18            aljezur          13     PT  1586961945        70  37.32   -8.80   \n",
       "19        bandarbeyla           8     SO  1586961945        69   9.49   50.81   \n",
       "\n",
       "    Max Temp  Wind Speed  \n",
       "0      41.00       10.00  \n",
       "1      85.24        7.02  \n",
       "2      66.00        5.86  \n",
       "3      77.00       10.29  \n",
       "4      55.00        6.91  \n",
       "5      28.99        9.17  \n",
       "6      94.01        3.51  \n",
       "7      44.60        5.55  \n",
       "8      19.99        3.36  \n",
       "9      50.00        2.24  \n",
       "10     12.22        1.32  \n",
       "11     81.84        8.97  \n",
       "12     44.01        6.93  \n",
       "13     50.00       11.99  \n",
       "14     36.00       12.75  \n",
       "15     80.60        6.76  \n",
       "16     89.60        6.93  \n",
       "17     50.00        6.93  \n",
       "18     64.00       16.40  \n",
       "19     83.84       12.59  "
      ]
     },
     "execution_count": 10,
     "metadata": {},
     "output_type": "execute_result"
    }
   ],
   "source": [
    "weather_dataframe = pd.DataFrame(weather_dict)\n",
    "\n",
    "weather_dataframe.head(20)"
   ]
  },
  {
   "cell_type": "markdown",
   "metadata": {},
   "source": [
    "## Inspect the data and remove the cities where the humidity > 100%.\n",
    "----\n",
    "Skip this step if there are no cities that have humidity > 100%. "
   ]
  },
  {
   "cell_type": "code",
   "execution_count": 38,
   "metadata": {},
   "outputs": [
    {
     "data": {
      "text/plain": [
       "559"
      ]
     },
     "execution_count": 38,
     "metadata": {},
     "output_type": "execute_result"
    }
   ],
   "source": [
    "\n",
    "# Export the City_Data into a csv\n",
    "weather_dataframe.to_csv('..\\output_data\\weather_data.csv')\n",
    "\n",
    "count = len(weather_dataframe)\n",
    "count"
   ]
  },
  {
   "cell_type": "markdown",
   "metadata": {},
   "source": [
    "## Plotting the Data\n",
    "* Use proper labeling of the plots using plot titles (including date of analysis) and axes labels.\n",
    "* Save the plotted figures as .pngs."
   ]
  },
  {
   "cell_type": "markdown",
   "metadata": {},
   "source": [
    "## Latitude vs. Temperature Plot"
   ]
  },
  {
   "cell_type": "code",
   "execution_count": 26,
   "metadata": {
    "scrolled": true
   },
   "outputs": [
    {
     "data": {
      "image/png": "[encoded data removed]",
      "text/plain": [
       "<Figure size 432x288 with 1 Axes>"
      ]
     },
     "metadata": {
      "needs_background": "light"
     },
     "output_type": "display_data"
    },
    {
     "name": "stdout",
     "output_type": "stream",
     "text": [
      "This plot shows the max temperature related to the latitude of the city. The closer to 0 (or the equater), the higher the average maximum temperature.\n"
     ]
    }
   ],
   "source": [
    "scatlat = weather_dataframe['Lat']\n",
    "scattemp = weather_dataframe['Max Temp']\n",
    "\n",
    "plt.scatter(scatlat, scattemp)\n",
    "plt.title('Latitude vs. Max Temp')\n",
    "plt.xlabel('Latitude')\n",
    "plt.ylabel('Max Temperature (F)')\n",
    "plt.savefig('Scatter_LatvMaxTemp')\n",
    "plt.show()\n",
    "print(\"This plot shows the max temperature related to the latitude of the city. The closer to 0 (or the equater), the higher the average maximum temperature.\")"
   ]
  },
  {
   "cell_type": "markdown",
   "metadata": {},
   "source": [
    "## Latitude vs. Humidity Plot"
   ]
  },
  {
   "cell_type": "code",
   "execution_count": 27,
   "metadata": {},
   "outputs": [
    {
     "data": {
      "image/png": "[encoded data removed]",
      "text/plain": [
       "<Figure size 432x288 with 1 Axes>"
      ]
     },
     "metadata": {
      "needs_background": "light"
     },
     "output_type": "display_data"
    },
    {
     "name": "stdout",
     "output_type": "stream",
     "text": [
      "This plot shows the average humidity of a city realted to their latitude. There does not appear to be a relationship between latitude and average humidity.\n"
     ]
    }
   ],
   "source": [
    "scathumid = weather_dataframe['Humidity']\n",
    "\n",
    "plt.scatter(scatlat,scathumid)\n",
    "plt.title('Latitude vs. Humidity')\n",
    "plt.xlabel('Latitude')\n",
    "plt.ylabel('Humidity (%)')\n",
    "plt.savefig('Scater_LatvHumidity')\n",
    "plt.show()\n",
    "print('This plot shows the average humidity of a city realted to their latitude. There does not appear to be a relationship between latitude and average humidity.')"
   ]
  },
  {
   "cell_type": "markdown",
   "metadata": {},
   "source": [
    "## Latitude vs. Cloudiness Plot"
   ]
  },
  {
   "cell_type": "code",
   "execution_count": 28,
   "metadata": {},
   "outputs": [
    {
     "data": {
      "image/png": "[encoded data removed]",
      "text/plain": [
       "<Figure size 432x288 with 1 Axes>"
      ]
     },
     "metadata": {
      "needs_background": "light"
     },
     "output_type": "display_data"
    },
    {
     "name": "stdout",
     "output_type": "stream",
     "text": [
      "The plot shows the average cloudiness by latitude. There is not a relationship between latitude and cloudiness.\n"
     ]
    }
   ],
   "source": [
    "scatcloud = weather_dataframe['Cloudiness']\n",
    "\n",
    "plt.scatter(scatlat,scatcloud)\n",
    "plt.title('Latitude vs. Cloudiness')\n",
    "plt.xlabel('Latitude')\n",
    "plt.ylabel('Cloudiness (%)')\n",
    "plt.savefig('Scater_LatvCloudiness')\n",
    "plt.show()\n",
    "print('The plot shows the average cloudiness by latitude. There is not a relationship between latitude and cloudiness.')"
   ]
  },
  {
   "cell_type": "markdown",
   "metadata": {},
   "source": [
    "## Latitude vs. Wind Speed Plot"
   ]
  },
  {
   "cell_type": "code",
   "execution_count": 29,
   "metadata": {},
   "outputs": [
    {
     "data": {
      "image/png": "[encoded data removed]",
      "text/plain": [
       "<Figure size 432x288 with 1 Axes>"
      ]
     },
     "metadata": {
      "needs_background": "light"
     },
     "output_type": "display_data"
    },
    {
     "name": "stdout",
     "output_type": "stream",
     "text": [
      "This plot shows the average wind speed by latitude. There is not a relationshp between latitude and wind speed.\n"
     ]
    }
   ],
   "source": [
    "scatwind = weather_dataframe['Wind Speed']\n",
    "\n",
    "plt.scatter(scatlat,scatwind)\n",
    "plt.title('Latitude vs. Wind Speed')\n",
    "plt.xlabel('Latitude')\n",
    "plt.ylabel('Wind Speed (mph)')\n",
    "plt.savefig('Scater_LatvWindSpeed')\n",
    "plt.show()\n",
    "print('This plot shows the average wind speed by latitude. There is not a relationshp between latitude and wind speed.')"
   ]
  },
  {
   "cell_type": "markdown",
   "metadata": {},
   "source": [
    "## Linear Regression"
   ]
  },
  {
   "cell_type": "code",
   "execution_count": 16,
   "metadata": {},
   "outputs": [],
   "source": [
    "# OPTIONAL: Create a function to create Linear Regression plots\n"
   ]
  },
  {
   "cell_type": "code",
   "execution_count": 17,
   "metadata": {},
   "outputs": [
    {
     "data": {
      "text/html": [
       "<div>\n",
       "<style scoped>\n",
       "    .dataframe tbody tr th:only-of-type {\n",
       "        vertical-align: middle;\n",
       "    }\n",
       "\n",
       "    .dataframe tbody tr th {\n",
       "        vertical-align: top;\n",
       "    }\n",
       "\n",
       "    .dataframe thead th {\n",
       "        text-align: right;\n",
       "    }\n",
       "</style>\n",
       "<table border=\"1\" class=\"dataframe\">\n",
       "  <thead>\n",
       "    <tr style=\"text-align: right;\">\n",
       "      <th></th>\n",
       "      <th>City</th>\n",
       "      <th>Cloudiness</th>\n",
       "      <th>County</th>\n",
       "      <th>Date</th>\n",
       "      <th>Humidity</th>\n",
       "      <th>Lat</th>\n",
       "      <th>Lng</th>\n",
       "      <th>Max Temp</th>\n",
       "      <th>Wind Speed</th>\n",
       "    </tr>\n",
       "  </thead>\n",
       "  <tbody>\n",
       "    <tr>\n",
       "      <th>2</th>\n",
       "      <td>hermanus</td>\n",
       "      <td>100</td>\n",
       "      <td>ZA</td>\n",
       "      <td>1586961941</td>\n",
       "      <td>77</td>\n",
       "      <td>-34.42</td>\n",
       "      <td>19.23</td>\n",
       "      <td>66.0</td>\n",
       "      <td>5.86</td>\n",
       "    </tr>\n",
       "    <tr>\n",
       "      <th>3</th>\n",
       "      <td>mareeba</td>\n",
       "      <td>75</td>\n",
       "      <td>AU</td>\n",
       "      <td>1586961941</td>\n",
       "      <td>83</td>\n",
       "      <td>-17.00</td>\n",
       "      <td>145.43</td>\n",
       "      <td>77.0</td>\n",
       "      <td>10.29</td>\n",
       "    </tr>\n",
       "    <tr>\n",
       "      <th>4</th>\n",
       "      <td>busselton</td>\n",
       "      <td>32</td>\n",
       "      <td>AU</td>\n",
       "      <td>1586961941</td>\n",
       "      <td>55</td>\n",
       "      <td>-33.65</td>\n",
       "      <td>115.33</td>\n",
       "      <td>55.0</td>\n",
       "      <td>6.91</td>\n",
       "    </tr>\n",
       "    <tr>\n",
       "      <th>7</th>\n",
       "      <td>ushuaia</td>\n",
       "      <td>40</td>\n",
       "      <td>AR</td>\n",
       "      <td>1586961942</td>\n",
       "      <td>81</td>\n",
       "      <td>-54.80</td>\n",
       "      <td>-68.30</td>\n",
       "      <td>44.6</td>\n",
       "      <td>5.55</td>\n",
       "    </tr>\n",
       "    <tr>\n",
       "      <th>13</th>\n",
       "      <td>mataura</td>\n",
       "      <td>69</td>\n",
       "      <td>NZ</td>\n",
       "      <td>1586961943</td>\n",
       "      <td>90</td>\n",
       "      <td>-46.19</td>\n",
       "      <td>168.86</td>\n",
       "      <td>50.0</td>\n",
       "      <td>11.99</td>\n",
       "    </tr>\n",
       "  </tbody>\n",
       "</table>\n",
       "</div>"
      ],
      "text/plain": [
       "         City  Cloudiness County        Date  Humidity    Lat     Lng  \\\n",
       "2    hermanus         100     ZA  1586961941        77 -34.42   19.23   \n",
       "3     mareeba          75     AU  1586961941        83 -17.00  145.43   \n",
       "4   busselton          32     AU  1586961941        55 -33.65  115.33   \n",
       "7     ushuaia          40     AR  1586961942        81 -54.80  -68.30   \n",
       "13    mataura          69     NZ  1586961943        90 -46.19  168.86   \n",
       "\n",
       "    Max Temp  Wind Speed  \n",
       "2       66.0        5.86  \n",
       "3       77.0       10.29  \n",
       "4       55.0        6.91  \n",
       "7       44.6        5.55  \n",
       "13      50.0       11.99  "
      ]
     },
     "execution_count": 17,
     "metadata": {},
     "output_type": "execute_result"
    }
   ],
   "source": [
    "# Create Northern and Southern Hemisphere DataFrames\n",
    "northern_hemi = weather_dataframe.loc[weather_dataframe['Lat']>0.01]\n",
    "southern_hemi = weather_dataframe.loc[weather_dataframe['Lat']<-0.01]\n",
    "\n",
    "#northern_hemi.head()\n",
    "southern_hemi.head()"
   ]
  },
  {
   "cell_type": "markdown",
   "metadata": {},
   "source": [
    "####  Northern Hemisphere - Max Temp vs. Latitude Linear Regression"
   ]
  },
  {
   "cell_type": "code",
   "execution_count": 37,
   "metadata": {},
   "outputs": [
    {
     "data": {
      "image/png": "[encoded data removed]",
      "text/plain": [
       "<Figure size 432x288 with 1 Axes>"
      ]
     },
     "metadata": {
      "needs_background": "light"
     },
     "output_type": "display_data"
    },
    {
     "data": {
      "text/plain": [
       "<Figure size 432x288 with 0 Axes>"
      ]
     },
     "metadata": {},
     "output_type": "display_data"
    }
   ],
   "source": [
    "x_values = northern_hemi['Lat']\n",
    "y_values = northern_hemi['Max Temp']\n",
    "(slope, intercept, rvalue, pvalue, stderr) = linregress(x_values, y_values)\n",
    "regress_values = x_values * slope + intercept\n",
    "line_eq = \"y = \" + str(round(slope,2)) + \"x + \" + str(round(intercept,2))\n",
    "plt.scatter(x_values,y_values)\n",
    "plt.plot(x_values,regress_values,\"red\")\n",
    "plt.annotate(line_eq,(5,10),fontsize=15,color=\"red\")\n",
    "\n",
    "plt.ylim(0,100)\n",
    "plt.xlim(0, 80)\n",
    "\n",
    "plt.ylabel(\"Max. Temp\")\n",
    "plt.xlabel(\"Latitude\")\n",
    "plt.show()\n",
    "\n",
    "plt.savefig('NorthernLinearRegression.png')"
   ]
  },
  {
   "cell_type": "markdown",
   "metadata": {},
   "source": [
    "####  Southern Hemisphere - Max Temp vs. Latitude Linear Regression"
   ]
  },
  {
   "cell_type": "code",
   "execution_count": 30,
   "metadata": {},
   "outputs": [
    {
     "data": {
      "image/png": "[encoded data removed]",
      "text/plain": [
       "<Figure size 432x288 with 1 Axes>"
      ]
     },
     "metadata": {
      "needs_background": "light"
     },
     "output_type": "display_data"
    },
    {
     "name": "stdout",
     "output_type": "stream",
     "text": [
      "These plots both show that the closer you are to 0 degrees latitude, or the equater, the higher the average temperature. This appears true for both northern and southern hemispheres.\n"
     ]
    },
    {
     "data": {
      "text/plain": [
       "<Figure size 432x288 with 0 Axes>"
      ]
     },
     "metadata": {},
     "output_type": "display_data"
    }
   ],
   "source": [
    "x_values = southern_hemi['Lat']\n",
    "y_values = southern_hemi['Max Temp']\n",
    "(slope, intercept, rvalue, pvalue, stderr) = linregress(x_values, y_values)\n",
    "regress_values = x_values * slope + intercept\n",
    "line_eq = \"y = \" + str(round(slope,2)) + \"x + \" + str(round(intercept,2))\n",
    "plt.scatter(x_values,y_values)\n",
    "plt.plot(x_values,regress_values,\"red\")\n",
    "plt.annotate(line_eq,(-30,50),fontsize=15,color=\"red\")\n",
    "\n",
    "plt.ylim(30, 100)\n",
    "plt.xlim(-60, 0, 10)\n",
    "\n",
    "plt.ylabel(\"Max. Temp\")\n",
    "plt.xlabel(\"Latitude\")\n",
    "plt.show()\n",
    "\n",
    "plt.savefig('SouthernLinearRegression.png')\n",
    "\n",
    "print('These plots both show that the closer you are to 0 degrees latitude, or the equater, the higher the average temperature. This appears true for both northern and southern hemispheres.')"
   ]
  },
  {
   "cell_type": "markdown",
   "metadata": {},
   "source": [
    "####  Northern Hemisphere - Humidity (%) vs. Latitude Linear Regression"
   ]
  },
  {
   "cell_type": "code",
   "execution_count": 36,
   "metadata": {},
   "outputs": [
    {
     "data": {
      "image/png": "[encoded data removed]",
      "text/plain": [
       "<Figure size 432x288 with 1 Axes>"
      ]
     },
     "metadata": {
      "needs_background": "light"
     },
     "output_type": "display_data"
    },
    {
     "data": {
      "text/plain": [
       "<Figure size 432x288 with 0 Axes>"
      ]
     },
     "metadata": {},
     "output_type": "display_data"
    }
   ],
   "source": [
    "x_values = northern_hemi['Lat']\n",
    "y_values = northern_hemi['Humidity']\n",
    "(slope, intercept, rvalue, pvalue, stderr) = linregress(x_values, y_values)\n",
    "regress_values = x_values * slope + intercept\n",
    "line_eq = \"y = \" + str(round(slope,2)) + \"x + \" + str(round(intercept,2))\n",
    "plt.scatter(x_values,y_values)\n",
    "plt.plot(x_values,regress_values,\"r-\")\n",
    "plt.annotate(line_eq,(40,10),fontsize=15,color=\"red\")\n",
    "plt.ylabel(\"Humidity\")\n",
    "plt.xlabel(\"Latitude\")\n",
    "plt.show()\n",
    "\n",
    "plt.savefig(\"NorthernHumidityLinearRegression.png\")"
   ]
  },
  {
   "cell_type": "markdown",
   "metadata": {},
   "source": [
    "####  Southern Hemisphere - Humidity (%) vs. Latitude Linear Regression"
   ]
  },
  {
   "cell_type": "code",
   "execution_count": 31,
   "metadata": {},
   "outputs": [
    {
     "data": {
      "image/png": "[encoded data removed]",
      "text/plain": [
       "<Figure size 432x288 with 1 Axes>"
      ]
     },
     "metadata": {
      "needs_background": "light"
     },
     "output_type": "display_data"
    },
    {
     "name": "stdout",
     "output_type": "stream",
     "text": [
      "These models are not predicting a relationship between average humidity and latitude.\n"
     ]
    },
    {
     "data": {
      "text/plain": [
       "<Figure size 432x288 with 0 Axes>"
      ]
     },
     "metadata": {},
     "output_type": "display_data"
    }
   ],
   "source": [
    "x_values = southern_hemi['Lat']\n",
    "y_values = southern_hemi['Humidity']\n",
    "(slope, intercept, rvalue, pvalue, stderr) = linregress(x_values, y_values)\n",
    "regress_values = x_values * slope + intercept\n",
    "line_eq = \"y = \" + str(round(slope,2)) + \"x + \" + str(round(intercept,2))\n",
    "plt.scatter(x_values,y_values)\n",
    "plt.plot(x_values,regress_values,\"r-\")\n",
    "plt.annotate(line_eq,(-25,10),fontsize=15,color=\"red\")\n",
    "plt.ylabel(\"Humidity\")\n",
    "plt.xlabel(\"Latitude\")\n",
    "plt.show()\n",
    "\n",
    "plt.savefig(\"SouthernHumidityLinearRegression.png\")\n",
    "\n",
    "print('These models are not predicting a relationship between average humidity and latitude.')"
   ]
  },
  {
   "cell_type": "markdown",
   "metadata": {},
   "source": [
    "####  Northern Hemisphere - Cloudiness (%) vs. Latitude Linear Regression"
   ]
  },
  {
   "cell_type": "code",
   "execution_count": 35,
   "metadata": {},
   "outputs": [
    {
     "data": {
      "image/png": "[encoded data removed]",
      "text/plain": [
       "<Figure size 432x288 with 1 Axes>"
      ]
     },
     "metadata": {
      "needs_background": "light"
     },
     "output_type": "display_data"
    },
    {
     "data": {
      "text/plain": [
       "<Figure size 432x288 with 0 Axes>"
      ]
     },
     "metadata": {},
     "output_type": "display_data"
    }
   ],
   "source": [
    "x_values = northern_hemi['Lat']\n",
    "y_values = northern_hemi['Cloudiness']\n",
    "(slope, intercept, rvalue, pvalue, stderr) = linregress(x_values, y_values)\n",
    "regress_values = x_values * slope + intercept\n",
    "line_eq = \"y = \" + str(round(slope,2)) + \"x + \" + str(round(intercept,2))\n",
    "plt.scatter(x_values,y_values)\n",
    "plt.plot(x_values,regress_values,\"r-\")\n",
    "plt.annotate(line_eq,(6,10),fontsize=15,color=\"red\")\n",
    "plt.ylabel(\"Cloudiness\")\n",
    "plt.xlabel(\"Latitude\")\n",
    "plt.show()\n",
    "\n",
    "plt.savefig(\"NorthernCloudinessLinearRegression.png\")"
   ]
  },
  {
   "cell_type": "markdown",
   "metadata": {},
   "source": [
    "####  Southern Hemisphere - Cloudiness (%) vs. Latitude Linear Regression"
   ]
  },
  {
   "cell_type": "code",
   "execution_count": 32,
   "metadata": {},
   "outputs": [
    {
     "data": {
      "image/png": "[encoded data removed]",
      "text/plain": [
       "<Figure size 432x288 with 1 Axes>"
      ]
     },
     "metadata": {
      "needs_background": "light"
     },
     "output_type": "display_data"
    },
    {
     "name": "stdout",
     "output_type": "stream",
     "text": [
      "There appears to be no relationship between cloudiness and latitude based on these regression models\n"
     ]
    },
    {
     "data": {
      "text/plain": [
       "<Figure size 432x288 with 0 Axes>"
      ]
     },
     "metadata": {},
     "output_type": "display_data"
    }
   ],
   "source": [
    "x_values = northern_hemi['Lat']\n",
    "y_values = northern_hemi['Cloudiness']\n",
    "(slope, intercept, rvalue, pvalue, stderr) = linregress(x_values, y_values)\n",
    "regress_values = x_values * slope + intercept\n",
    "line_eq = \"y = \" + str(round(slope,2)) + \"x + \" + str(round(intercept,2))\n",
    "plt.scatter(x_values,y_values)\n",
    "plt.plot(x_values,regress_values,\"r-\")\n",
    "plt.annotate(line_eq,(6,10),fontsize=15,color=\"red\")\n",
    "plt.ylabel(\"Cloudiness\")\n",
    "plt.xlabel(\"Latitude\")\n",
    "plt.show()\n",
    "\n",
    "plt.savefig(\"SouthernCloudinessLinearRegression.png\")\n",
    "\n",
    "print('There appears to be no relationship between cloudiness and latitude based on these regression models')"
   ]
  },
  {
   "cell_type": "markdown",
   "metadata": {},
   "source": [
    "####  Northern Hemisphere - Wind Speed (mph) vs. Latitude Linear Regression"
   ]
  },
  {
   "cell_type": "code",
   "execution_count": 34,
   "metadata": {},
   "outputs": [
    {
     "data": {
      "image/png": "[encoded data removed]",
      "text/plain": [
       "<Figure size 432x288 with 1 Axes>"
      ]
     },
     "metadata": {
      "needs_background": "light"
     },
     "output_type": "display_data"
    },
    {
     "data": {
      "text/plain": [
       "<Figure size 432x288 with 0 Axes>"
      ]
     },
     "metadata": {},
     "output_type": "display_data"
    }
   ],
   "source": [
    "x_values = northern_hemi['Lat']\n",
    "y_values = northern_hemi['Wind Speed']\n",
    "(slope, intercept, rvalue, pvalue, stderr) = linregress(x_values, y_values)\n",
    "regress_values = x_values * slope + intercept\n",
    "line_eq = \"y = \" + str(round(slope,2)) + \"x + \" + str(round(intercept,2))\n",
    "plt.scatter(x_values,y_values)\n",
    "plt.plot(x_values,regress_values,\"r-\")\n",
    "plt.annotate(line_eq,(45,35),fontsize=15,color=\"red\")\n",
    "plt.ylabel(\"Cloudiness\")\n",
    "plt.xlabel(\"Latitude\")\n",
    "plt.show()\n",
    "\n",
    "plt.savefig(\"NorthernWindSpeedLinearRegression.png\")"
   ]
  },
  {
   "cell_type": "markdown",
   "metadata": {},
   "source": [
    "####  Southern Hemisphere - Wind Speed (mph) vs. Latitude Linear Regression"
   ]
  },
  {
   "cell_type": "code",
   "execution_count": 33,
   "metadata": {},
   "outputs": [
    {
     "data": {
      "image/png": "[encoded data removed]",
      "text/plain": [
       "<Figure size 432x288 with 1 Axes>"
      ]
     },
     "metadata": {
      "needs_background": "light"
     },
     "output_type": "display_data"
    },
    {
     "name": "stdout",
     "output_type": "stream",
     "text": [
      "There appears to be no relationship between wind speed and latitude based on these regression models\n"
     ]
    },
    {
     "data": {
      "text/plain": [
       "<Figure size 432x288 with 0 Axes>"
      ]
     },
     "metadata": {},
     "output_type": "display_data"
    }
   ],
   "source": [
    "x_values = southern_hemi['Lat']\n",
    "y_values = southern_hemi['Wind Speed']\n",
    "(slope, intercept, rvalue, pvalue, stderr) = linregress(x_values, y_values)\n",
    "regress_values = x_values * slope + intercept\n",
    "line_eq = \"y = \" + str(round(slope,2)) + \"x + \" + str(round(intercept,2))\n",
    "plt.scatter(x_values,y_values)\n",
    "plt.plot(x_values,regress_values,\"r-\")\n",
    "plt.annotate(line_eq,(-50,20),fontsize=15,color=\"red\")\n",
    "plt.ylabel(\"Wind Speed\")\n",
    "plt.xlabel(\"Latitude\")\n",
    "plt.show()\n",
    "\n",
    "plt.savefig(\"SouthernWindSpeedLinearRegression.png\")\n",
    "\n",
    "print('There appears to be no relationship between wind speed and latitude based on these regression models')"
   ]
  },
  {
   "cell_type": "code",
   "execution_count": null,
   "metadata": {},
   "outputs": [],
   "source": []
  }
 ],
 "metadata": {
  "anaconda-cloud": {},
  "kernel_info": {
   "name": "python3"
  },
  "kernelspec": {
   "display_name": "Python 3",
   "language": "python",
   "name": "python3"
  },
  "language_info": {
   "codemirror_mode": {
    "name": "ipython",
    "version": 3
   },
   "file_extension": ".py",
   "mimetype": "text/x-python",
   "name": "python",
   "nbconvert_exporter": "python",
   "pygments_lexer": "ipython3",
   "version": "3.6.10"
  },
  "latex_envs": {
   "LaTeX_envs_menu_present": true,
   "autoclose": false,
   "autocomplete": true,
   "bibliofile": "biblio.bib",
   "cite_by": "apalike",
   "current_citInitial": 1,
   "eqLabelWithNumbers": true,
   "eqNumInitial": 1,
   "hotkeys": {
    "equation": "Ctrl-E",
    "itemize": "Ctrl-I"
   },
   "labels_anchors": false,
   "latex_user_defs": false,
   "report_style_numbering": false,
   "user_envs_cfg": false
  },
  "nteract": {
   "version": "0.12.3"
  }
 },
 "nbformat": 4,
 "nbformat_minor": 2
}
